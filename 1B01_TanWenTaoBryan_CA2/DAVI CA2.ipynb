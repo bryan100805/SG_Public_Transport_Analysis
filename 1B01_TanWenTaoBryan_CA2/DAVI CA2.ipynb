{
 "cells": [
  {
   "cell_type": "code",
   "execution_count": 1,
   "id": "4edc6d6e",
   "metadata": {},
   "outputs": [],
   "source": [
    "import pandas as pd\n",
    "import numpy as np\n",
    "import seaborn as sns\n",
    "import matplotlib.pyplot as plt\n",
    "#stylesheet for matplotlib\n",
    "import matplotlib.patheffects as path_effects\n",
    "import plotly.graph_objects as go\n",
    "from plotly.subplots import make_subplots\n"
   ]
  },
  {
   "cell_type": "code",
   "execution_count": 2,
   "id": "ad3d87b3",
   "metadata": {},
   "outputs": [
    {
     "name": "stdout",
     "output_type": "stream",
     "text": [
      "Nature of Cleaned Dataset 1\n"
     ]
    },
    {
     "data": {
      "text/plain": [
       "Distance                               float64\n",
       "Category                                object\n",
       "Description                             object\n",
       "Interchange                             object\n",
       "Freq_of_Buses_during_Peak_Period       float64\n",
       "Freq_of_Buses_during_OffPeak_Period    float64\n",
       "dtype: object"
      ]
     },
     "metadata": {},
     "output_type": "display_data"
    },
    {
     "data": {
      "text/html": [
       "<div>\n",
       "<style scoped>\n",
       "    .dataframe tbody tr th:only-of-type {\n",
       "        vertical-align: middle;\n",
       "    }\n",
       "\n",
       "    .dataframe tbody tr th {\n",
       "        vertical-align: top;\n",
       "    }\n",
       "\n",
       "    .dataframe thead th {\n",
       "        text-align: right;\n",
       "    }\n",
       "</style>\n",
       "<table border=\"1\" class=\"dataframe\">\n",
       "  <thead>\n",
       "    <tr style=\"text-align: right;\">\n",
       "      <th></th>\n",
       "      <th></th>\n",
       "      <th></th>\n",
       "      <th>Distance</th>\n",
       "      <th>Category</th>\n",
       "      <th>Description</th>\n",
       "      <th>Interchange</th>\n",
       "      <th>Freq_of_Buses_during_Peak_Period</th>\n",
       "      <th>Freq_of_Buses_during_OffPeak_Period</th>\n",
       "    </tr>\n",
       "    <tr>\n",
       "      <th>ServiceNo</th>\n",
       "      <th>Direction</th>\n",
       "      <th>StopSequence</th>\n",
       "      <th></th>\n",
       "      <th></th>\n",
       "      <th></th>\n",
       "      <th></th>\n",
       "      <th></th>\n",
       "      <th></th>\n",
       "    </tr>\n",
       "  </thead>\n",
       "  <tbody>\n",
       "    <tr>\n",
       "      <th rowspan=\"5\" valign=\"top\">10</th>\n",
       "      <th rowspan=\"5\" valign=\"top\">1</th>\n",
       "      <th>1</th>\n",
       "      <td>0.0</td>\n",
       "      <td>TRUNK</td>\n",
       "      <td>Tampines Int</td>\n",
       "      <td>Has Interchange</td>\n",
       "      <td>9.0</td>\n",
       "      <td>8.0</td>\n",
       "    </tr>\n",
       "    <tr>\n",
       "      <th>2</th>\n",
       "      <td>0.6</td>\n",
       "      <td>TRUNK</td>\n",
       "      <td>Opp Our Tampines Hub</td>\n",
       "      <td>Does Not Have Interchange</td>\n",
       "      <td>9.0</td>\n",
       "      <td>8.0</td>\n",
       "    </tr>\n",
       "    <tr>\n",
       "      <th>3</th>\n",
       "      <td>1.1</td>\n",
       "      <td>TRUNK</td>\n",
       "      <td>Blk 147</td>\n",
       "      <td>Does Not Have Interchange</td>\n",
       "      <td>9.0</td>\n",
       "      <td>8.0</td>\n",
       "    </tr>\n",
       "    <tr>\n",
       "      <th>4</th>\n",
       "      <td>2.3</td>\n",
       "      <td>TRUNK</td>\n",
       "      <td>Changi General Hosp</td>\n",
       "      <td>Does Not Have Interchange</td>\n",
       "      <td>9.0</td>\n",
       "      <td>8.0</td>\n",
       "    </tr>\n",
       "    <tr>\n",
       "      <th>5</th>\n",
       "      <td>2.7</td>\n",
       "      <td>TRUNK</td>\n",
       "      <td>Opp Blk 3012</td>\n",
       "      <td>Does Not Have Interchange</td>\n",
       "      <td>9.0</td>\n",
       "      <td>8.0</td>\n",
       "    </tr>\n",
       "  </tbody>\n",
       "</table>\n",
       "</div>"
      ],
      "text/plain": [
       "                                  Distance Category           Description  \\\n",
       "ServiceNo Direction StopSequence                                            \n",
       "10        1         1                  0.0    TRUNK          Tampines Int   \n",
       "                    2                  0.6    TRUNK  Opp Our Tampines Hub   \n",
       "                    3                  1.1    TRUNK               Blk 147   \n",
       "                    4                  2.3    TRUNK   Changi General Hosp   \n",
       "                    5                  2.7    TRUNK          Opp Blk 3012   \n",
       "\n",
       "                                                Interchange  \\\n",
       "ServiceNo Direction StopSequence                              \n",
       "10        1         1                       Has Interchange   \n",
       "                    2             Does Not Have Interchange   \n",
       "                    3             Does Not Have Interchange   \n",
       "                    4             Does Not Have Interchange   \n",
       "                    5             Does Not Have Interchange   \n",
       "\n",
       "                                  Freq_of_Buses_during_Peak_Period  \\\n",
       "ServiceNo Direction StopSequence                                     \n",
       "10        1         1                                          9.0   \n",
       "                    2                                          9.0   \n",
       "                    3                                          9.0   \n",
       "                    4                                          9.0   \n",
       "                    5                                          9.0   \n",
       "\n",
       "                                  Freq_of_Buses_during_OffPeak_Period  \n",
       "ServiceNo Direction StopSequence                                       \n",
       "10        1         1                                             8.0  \n",
       "                    2                                             8.0  \n",
       "                    3                                             8.0  \n",
       "                    4                                             8.0  \n",
       "                    5                                             8.0  "
      ]
     },
     "metadata": {},
     "output_type": "display_data"
    }
   ],
   "source": [
    "#Import first 3 datasets to fulfil first objective\n",
    "directory='./Original_Datasets/'\n",
    "df1 = pd.read_csv(directory + 'bus_routes.csv', sep=',',na_values=['-','NaN'])\n",
    "df2 = pd.read_csv(directory + \"bus_stops.csv\", sep=\",\",na_values=['-','NaN'])\n",
    "df3 = pd.read_csv(directory + \"bus_services.csv\", sep=\",\",na_values=['-','NaN'])\n",
    "#Drop the indexes of the main datasets\n",
    "df1=df1.drop(['Unnamed: 0'],axis=1)\n",
    "df2=df2.drop(['Unnamed: 0'], axis=1)\n",
    "df3=df3.drop(['Unnamed: 0'], axis=1)\n",
    "# print(df1.columns)\n",
    "# print(df2.columns)\n",
    "# print(df3.columns)\n",
    "\n",
    "#Perform an inner merge for bus_routes and bus_services tables\n",
    "merged1=pd.merge(df1, df3, how='inner', on=['ServiceNo','Operator','Direction'])\n",
    "#Convert type of BusStopCode column in bus_routes tables to integer\n",
    "df1[\"BusStopCode\"]=df1[\"BusStopCode\"].astype(int)\n",
    "#Perform an inner merge for all 3 bus datasets\n",
    "merged1=pd.merge(merged1, df2, how='inner', on=['BusStopCode'])\n",
    "\n",
    "#Set indexes for the merged dataset1\n",
    "merged1=merged1.set_index([\"ServiceNo\",\"Direction\",\"StopSequence\"])\n",
    "#Sort the values according to ServiceNo, Direction & StopSequence in ascending order\n",
    "merged1=merged1.sort_index(level=[\"ServiceNo\",\"Direction\",\"StopSequence\"])\n",
    "\n",
    "#Number of null values & type in the dataset before inputation\n",
    "# print(merged1.isnull().sum())\n",
    "# display(merged1.dtypes)\n",
    "# display(merged1)\n",
    "#Fill up missing values with 0\n",
    "merged1=merged1.fillna(0)\n",
    "# print(merged1.isnull().sum())\n",
    "# display(merged1)\n",
    "\n",
    "#Function to retrieve the first element in each data cell value\n",
    "def second_element(data):\n",
    "    if type(data)!=int and \"-\" in data:\n",
    "        data=data.split(\"-\")\n",
    "        data=data[0]\n",
    "        return data\n",
    "    else:\n",
    "        return data\n",
    "\n",
    "#Apply the function across these columns\n",
    "merged1[[\"AM_Peak_Freq\",\"AM_Offpeak_Freq\",\"PM_Peak_Freq\",\"PM_Offpeak_Freq\"]]=merged1[[\"AM_Peak_Freq\",\"AM_Offpeak_Freq\",\"PM_Peak_Freq\",\"PM_Offpeak_Freq\"]].applymap(second_element)\n",
    "\n",
    "#Change types of columns\n",
    "merged1[[\"AM_Peak_Freq\",\"AM_Offpeak_Freq\",\"PM_Peak_Freq\",\"PM_Offpeak_Freq\",\"OriginCode\",\"DestinationCode\"]]=merged1[[\"AM_Peak_Freq\",\"AM_Offpeak_Freq\",\"PM_Peak_Freq\",\"PM_Offpeak_Freq\",\"OriginCode\",\"DestinationCode\"]].astype(int)\n",
    "\n",
    "#Drop columns\n",
    "merged1=merged1.drop([\"Latitude\",\"Longitude\",\"WD_FirstBus\",\"WD_LastBus\",\"SAT_FirstBus\",\"SAT_LastBus\",\"SUN_FirstBus\",\"SUN_LastBus\", \"LoopDesc\"], axis=1)\n",
    "\n",
    "#Check the regex of every row of Description Column to see if the bus stop is an interchange or not and\n",
    "#replace it with Has Interchange if it matches, N otherwise\n",
    "merged1[\"Interchange\"] = np.where(merged1[\"Description\"].str.contains(r'Int$', regex=True), 'Has Interchange', 'Does Not Have Interchange')\n",
    "\n",
    "#Formulate 2 new columns based on frequency of buses dispatched during peak vs non-peak period\n",
    "column1=np.floor((merged1[\"AM_Peak_Freq\"] + merged1[\"PM_Peak_Freq\"])/2)\n",
    "column2=np.floor((merged1[\"AM_Offpeak_Freq\"] + merged1[\"PM_Offpeak_Freq\"])/2)\n",
    "merged1=merged1.assign(Freq_of_Buses_during_Peak_Period=column1,Freq_of_Buses_during_OffPeak_Period=column2)\n",
    "\n",
    "#Drop final unused columns\n",
    "merged1=merged1.drop([\"Operator\",\"AM_Peak_Freq\",\"AM_Offpeak_Freq\",\"PM_Peak_Freq\",\"PM_Offpeak_Freq\",\"OriginCode\",\"DestinationCode\",\"BusStopCode\",\"RoadName\"], axis=1)\n",
    "\n",
    "print(\"Nature of Cleaned Dataset 1\")\n",
    "display(merged1.dtypes)\n",
    "\n",
    "#Save cleaned dataset 1 as csv format\n",
    "merged1.to_csv('./Cleaned_Datasets/merged_dataset1.csv')\n",
    "display(merged1.head())\n",
    "# display(merged1.tail())"
   ]
  },
  {
   "cell_type": "code",
   "execution_count": 3,
   "id": "a810bc99",
   "metadata": {},
   "outputs": [
    {
     "data": {
      "text/html": [
       "<div>\n",
       "<style scoped>\n",
       "    .dataframe tbody tr th:only-of-type {\n",
       "        vertical-align: middle;\n",
       "    }\n",
       "\n",
       "    .dataframe tbody tr th {\n",
       "        vertical-align: top;\n",
       "    }\n",
       "\n",
       "    .dataframe thead th {\n",
       "        text-align: right;\n",
       "    }\n",
       "</style>\n",
       "<table border=\"1\" class=\"dataframe\">\n",
       "  <thead>\n",
       "    <tr style=\"text-align: right;\">\n",
       "      <th></th>\n",
       "      <th>Category</th>\n",
       "      <th>Distance</th>\n",
       "      <th>Interchange</th>\n",
       "    </tr>\n",
       "  </thead>\n",
       "  <tbody>\n",
       "    <tr>\n",
       "      <th>0</th>\n",
       "      <td>TRUNK</td>\n",
       "      <td>31.7</td>\n",
       "      <td>Has Interchange</td>\n",
       "    </tr>\n",
       "    <tr>\n",
       "      <th>1</th>\n",
       "      <td>TRUNK</td>\n",
       "      <td>31.9</td>\n",
       "      <td>Has Interchange</td>\n",
       "    </tr>\n",
       "    <tr>\n",
       "      <th>2</th>\n",
       "      <td>TRUNK</td>\n",
       "      <td>23.6</td>\n",
       "      <td>Has Interchange</td>\n",
       "    </tr>\n",
       "    <tr>\n",
       "      <th>3</th>\n",
       "      <td>TRUNK</td>\n",
       "      <td>23.3</td>\n",
       "      <td>Has Interchange</td>\n",
       "    </tr>\n",
       "    <tr>\n",
       "      <th>4</th>\n",
       "      <td>TRUNK</td>\n",
       "      <td>4.7</td>\n",
       "      <td>Has Interchange</td>\n",
       "    </tr>\n",
       "    <tr>\n",
       "      <th>...</th>\n",
       "      <td>...</td>\n",
       "      <td>...</td>\n",
       "      <td>...</td>\n",
       "    </tr>\n",
       "    <tr>\n",
       "      <th>656</th>\n",
       "      <td>TRUNK</td>\n",
       "      <td>1.8</td>\n",
       "      <td>Has Interchange</td>\n",
       "    </tr>\n",
       "    <tr>\n",
       "      <th>657</th>\n",
       "      <td>TRUNK</td>\n",
       "      <td>3.0</td>\n",
       "      <td>Has Interchange</td>\n",
       "    </tr>\n",
       "    <tr>\n",
       "      <th>658</th>\n",
       "      <td>TRUNK</td>\n",
       "      <td>8.4</td>\n",
       "      <td>Has Interchange</td>\n",
       "    </tr>\n",
       "    <tr>\n",
       "      <th>659</th>\n",
       "      <td>TRUNK</td>\n",
       "      <td>5.4</td>\n",
       "      <td>Has Interchange</td>\n",
       "    </tr>\n",
       "    <tr>\n",
       "      <th>660</th>\n",
       "      <td>TRUNK</td>\n",
       "      <td>4.9</td>\n",
       "      <td>Does Not Have Interchange</td>\n",
       "    </tr>\n",
       "  </tbody>\n",
       "</table>\n",
       "<p>661 rows × 3 columns</p>\n",
       "</div>"
      ],
      "text/plain": [
       "    Category  Distance                Interchange\n",
       "0      TRUNK      31.7            Has Interchange\n",
       "1      TRUNK      31.9            Has Interchange\n",
       "2      TRUNK      23.6            Has Interchange\n",
       "3      TRUNK      23.3            Has Interchange\n",
       "4      TRUNK       4.7            Has Interchange\n",
       "..       ...       ...                        ...\n",
       "656    TRUNK       1.8            Has Interchange\n",
       "657    TRUNK       3.0            Has Interchange\n",
       "658    TRUNK       8.4            Has Interchange\n",
       "659    TRUNK       5.4            Has Interchange\n",
       "660    TRUNK       4.9  Does Not Have Interchange\n",
       "\n",
       "[661 rows x 3 columns]"
      ]
     },
     "metadata": {},
     "output_type": "display_data"
    },
    {
     "data": {
      "image/png": "[encoded data removed]",
      "text/plain": [
       "<Figure size 864x432 with 1 Axes>"
      ]
     },
     "metadata": {},
     "output_type": "display_data"
    }
   ],
   "source": [
    "#Filter rows of data that Category matches only Trunk, Feeder, Express\n",
    "specific_category=merged1[merged1[\"Category\"].isin([\"TRUNK\",\"FEEDER\",\"EXPRESS\"])]\n",
    "\n",
    "#Get maximum distance of route from every bus service number & direction\n",
    "max_dist_of_everybusserviceNo=[]\n",
    "unique_serviceno=specific_category.index.get_level_values(0).unique()\n",
    "for unique_service in unique_serviceno:\n",
    "    first_lvl_index1=specific_category[specific_category.index.get_level_values(0)==unique_service]\n",
    "    second_lvl_index1=first_lvl_index1.index.get_level_values(1).unique()\n",
    "    for index in second_lvl_index1:\n",
    "        result=specific_category.loc[(unique_service,index)][[\"Category\",\"Distance\",\"Interchange\"]].max()\n",
    "        temp_dict={'Category':result[\"Category\"], \"Distance\":result[\"Distance\"], \"Interchange\":result[\"Interchange\"]}\n",
    "        max_dist_of_everybusserviceNo.append(temp_dict)\n",
    "\n",
    "#Convert list to pandas dataframe\n",
    "ds1 = pd.concat([pd.DataFrame([row], columns=[\"Category\",\"Distance\",\"Interchange\"]) for row in max_dist_of_everybusserviceNo], ignore_index=True)\n",
    "display(ds1)\n",
    "\n",
    "#Plot Graph 1 (Violin Plot)\n",
    "sns.set_style('darkgrid')\n",
    "sns.set_palette('Accent')\n",
    "fig1=plt.figure(1, figsize=(12,6))\n",
    "fig1.set_facecolor(\"lightblue\")\n",
    "#bw=.14 shows how reduced the smoothness of the plots are\n",
    "ax1=sns.violinplot(data=ds1, x='Distance', y='Category',bw=.14, hue=\"Interchange\", split=True, palette=[\"maroon\",\"teal\"])\n",
    "#overlay stripplot on violinplot\n",
    "#sns.stripplot(data=ds1, x='Distance', y='Category',hue=\"Interchange\", edgecolor=\"white\", size=4, ax=ax1, palette=[\"blue\", \"darkgray\"]) #jitter=True\n",
    "legend = ax1.legend(loc='lower right', shadow=True, fancybox=True, bbox_to_anchor=(0.98, 0.05))\n",
    "plt.xlabel(\"Distance of Bus Route for Every Bus Service (km)\", fontsize=12)\n",
    "plt.ylabel('Bus Category', fontsize=12)\n",
    "fig1.suptitle('Distance of Bus Routes for Each Bus Category',fontsize=18, fontweight=\"heavy\", fontfamily='cursive')\n",
    "plt.tight_layout()\n",
    "plt.show()"
   ]
  },
  {
   "cell_type": "code",
   "execution_count": 4,
   "id": "0f651c43",
   "metadata": {},
   "outputs": [
    {
     "data": {
      "image/png": "[encoded data removed]",
      "text/plain": [
       "<Figure size 864x720 with 4 Axes>"
      ]
     },
     "metadata": {},
     "output_type": "display_data"
    }
   ],
   "source": [
    "#Filter rows of data that Category matches only Trunk, Feeder, Express\n",
    "specific_category=merged1[merged1[\"Category\"].isin([\"TRUNK\",\"FEEDER\",\"EXPRESS\"])]\n",
    "\n",
    "# 1) Get maximum distance of route from every bus service number & direction\n",
    "# 2) Get frequency of buses dispatched for routes that contains bus interchange and no bus interchange\n",
    "freq_Bus_wInterchange=[]\n",
    "freq_Bus_wNoInterchange=[]\n",
    "unique_serviceno=specific_category.index.get_level_values(0).unique()\n",
    "for unique_service in unique_serviceno:\n",
    "    #Obtain unique service for every bus route\n",
    "    first_lvl_index1=specific_category[specific_category.index.get_level_values(0)==unique_service]\n",
    "    #Obtain unique direction for every bus service\n",
    "    second_lvl_index1=first_lvl_index1.index.get_level_values(1).unique()\n",
    "    for index in second_lvl_index1:\n",
    "        result=specific_category.loc[(unique_service,index)][[\"Category\",\"Freq_of_Buses_during_Peak_Period\",\"Freq_of_Buses_during_OffPeak_Period\",\"Distance\",\"Interchange\"]].max()\n",
    "        if result[\"Interchange\"]==\"Has Interchange\":\n",
    "            temp_dict1={'Category':result[\"Category\"],\"Freq_of_Buses_during_Peak_Period\":result[\"Freq_of_Buses_during_Peak_Period\"],\"Freq_of_Buses_during_OffPeak_Period\":result[\"Freq_of_Buses_during_OffPeak_Period\"] ,\"Distance\":result[\"Distance\"], \"Interchange\":result[\"Interchange\"]}\n",
    "            freq_Bus_wInterchange.append(temp_dict1)\n",
    "        else:\n",
    "            temp_dict2={'Category':result[\"Category\"],\"Freq_of_Buses_during_Peak_Period\":result[\"Freq_of_Buses_during_Peak_Period\"],\"Freq_of_Buses_during_OffPeak_Period\":result[\"Freq_of_Buses_during_OffPeak_Period\"] ,\"Distance\":result[\"Distance\"], \"Interchange\":result[\"Interchange\"]}\n",
    "            freq_Bus_wNoInterchange.append(temp_dict2)\n",
    "\n",
    "#Convert list to pandas dataframe\n",
    "ds2_1 = pd.concat([pd.DataFrame([row], columns=[\"Category\",\"Freq_of_Buses_during_Peak_Period\",\"Freq_of_Buses_during_OffPeak_Period\",\"Distance\",\"Interchange\"]) for row in freq_Bus_wInterchange], ignore_index=True)\n",
    "ds2_2 = pd.concat([pd.DataFrame([row], columns=[\"Category\",\"Freq_of_Buses_during_Peak_Period\",\"Freq_of_Buses_during_OffPeak_Period\",\"Distance\",\"Interchange\"]) for row in freq_Bus_wNoInterchange], ignore_index=True)\n",
    "\n",
    "#Plot Graph 2 (Scatterplots)\n",
    "fig2,axes=plt.subplots(nrows=2,ncols=2, figsize=(12,10), sharey=True)\n",
    "fig2.set_facecolor(\"lightblue\")\n",
    "sns.set_style('darkgrid')\n",
    "ax2_1=sns.regplot(data=ds2_1, x=\"Distance\", y=\"Freq_of_Buses_during_Peak_Period\",ax=axes[0,0], color='maroon', marker=\"_\")\n",
    "ax2_2=sns.regplot(data=ds2_1, x=\"Distance\", y=\"Freq_of_Buses_during_OffPeak_Period\",ax=axes[0,1], color='black', marker=\"_\")\n",
    "ax2_3=sns.regplot(data=ds2_2, x=\"Distance\", y=\"Freq_of_Buses_during_Peak_Period\",ax=axes[1,0], color=\"teal\", marker=\"_\")\n",
    "ax2_4=sns.regplot(data=ds2_2, x=\"Distance\", y=\"Freq_of_Buses_during_OffPeak_Period\",ax=axes[1,1], color='darkgreen', marker=\"_\")\n",
    "plt.ylim(-3,60)\n",
    "\n",
    "ax2_1.set_title('Routes with Interchange for Peak Hour', fontweight='bold', color='maroon', fontsize=14)\n",
    "ax2_1.set_xlabel(\"Distance (km)\")\n",
    "ax2_1.set_ylabel(\"Frequency of Buses in Units\")\n",
    "ax2_2.set_title('Routes with Interchange for Off Peak Hour', fontweight='bold',color='black', fontsize=14)\n",
    "ax2_2.set_xlabel(\"Distance (km)\")\n",
    "ax2_2.set_ylabel(\"Frequency of Buses in Units\")\n",
    "ax2_3.set_title('Routes without Interchange for Peak Hour', fontweight='bold', color='teal', fontsize=14)\n",
    "ax2_3.set_xlabel(\"Distance (km)\")\n",
    "ax2_3.set_ylabel(\"Frequency of Buses in Units\")\n",
    "ax2_4.set_title('Routes without Interchange for Off Peak Hour', fontweight='bold', color='darkgreen', fontsize=14)\n",
    "ax2_4.set_xlabel(\"Distance (km)\")\n",
    "ax2_4.set_ylabel(\"Frequency of Buses in Units\")\n",
    "fig2.suptitle('Distance of Bus Routes VS Frequency of Bus Dispatched During Peak & Off Peak Hour',fontsize=18, fontweight=\"heavy\",fontfamily='cursive')\n",
    "\n",
    "#Get correlation coefficient of each relationship\n",
    "corelation_coeff1 = np.corrcoef(ds2_1[\"Distance\"], ds2_1[\"Freq_of_Buses_during_Peak_Period\"])[0,1**2]\n",
    "corelation_coeff2 = np.corrcoef(ds2_1[\"Distance\"], ds2_1[\"Freq_of_Buses_during_OffPeak_Period\"])[0,1**2]\n",
    "corelation_coeff3 = np.corrcoef(ds2_2[\"Distance\"], ds2_2[\"Freq_of_Buses_during_Peak_Period\"])[0,1**2]\n",
    "corelation_coeff4 = np.corrcoef(ds2_2[\"Distance\"], ds2_2[\"Freq_of_Buses_during_OffPeak_Period\"])[0,1**2]\n",
    "string1=\"r=\"+str(round(corelation_coeff1,2))\n",
    "string2=\"r=\"+str(round(corelation_coeff2,2))\n",
    "string3=\"r=\"+str(round(corelation_coeff3,2))\n",
    "string4=\"r=\"+str(round(corelation_coeff4,2))\n",
    "#Insert text of correlation coefficient with a box as a background\n",
    "ax2_1.text(60,22, string1, fontsize=10,bbox={'facecolor':'#2aa198', 'alpha':0.5, 'pad':10})\n",
    "ax2_2.text(60,22, string2, fontsize=10,bbox={'facecolor':'#2aa198', 'alpha':0.5, 'pad':10})\n",
    "ax2_3.text(52,18, string3, fontsize=10,bbox={'facecolor':'#2aa198', 'alpha':0.5, 'pad':10})\n",
    "ax2_4.text(52,18, string4, fontsize=10,bbox={'facecolor':'#2aa198', 'alpha':0.5, 'pad':10})\n",
    "plt.tight_layout()\n",
    "plt.show()\n"
   ]
  },
  {
   "cell_type": "code",
   "execution_count": 5,
   "id": "9e42d831",
   "metadata": {},
   "outputs": [
    {
     "name": "stdout",
     "output_type": "stream",
     "text": [
      "Peak Period\n"
     ]
    },
    {
     "data": {
      "text/html": [
       "<div>\n",
       "<style scoped>\n",
       "    .dataframe tbody tr th:only-of-type {\n",
       "        vertical-align: middle;\n",
       "    }\n",
       "\n",
       "    .dataframe tbody tr th {\n",
       "        vertical-align: top;\n",
       "    }\n",
       "\n",
       "    .dataframe thead th {\n",
       "        text-align: right;\n",
       "    }\n",
       "</style>\n",
       "<table border=\"1\" class=\"dataframe\">\n",
       "  <thead>\n",
       "    <tr style=\"text-align: right;\">\n",
       "      <th></th>\n",
       "      <th>Category</th>\n",
       "      <th>Freq_of_Buses_during_Peak_Period</th>\n",
       "      <th>Distance</th>\n",
       "      <th>Interchange</th>\n",
       "    </tr>\n",
       "  </thead>\n",
       "  <tbody>\n",
       "    <tr>\n",
       "      <th>0</th>\n",
       "      <td>TRUNK</td>\n",
       "      <td>9.0</td>\n",
       "      <td>31.7</td>\n",
       "      <td>Has Interchange</td>\n",
       "    </tr>\n",
       "    <tr>\n",
       "      <th>1</th>\n",
       "      <td>TRUNK</td>\n",
       "      <td>9.0</td>\n",
       "      <td>31.9</td>\n",
       "      <td>Has Interchange</td>\n",
       "    </tr>\n",
       "    <tr>\n",
       "      <th>2</th>\n",
       "      <td>TRUNK</td>\n",
       "      <td>6.0</td>\n",
       "      <td>23.6</td>\n",
       "      <td>Has Interchange</td>\n",
       "    </tr>\n",
       "    <tr>\n",
       "      <th>3</th>\n",
       "      <td>TRUNK</td>\n",
       "      <td>7.0</td>\n",
       "      <td>23.3</td>\n",
       "      <td>Has Interchange</td>\n",
       "    </tr>\n",
       "    <tr>\n",
       "      <th>4</th>\n",
       "      <td>TRUNK</td>\n",
       "      <td>15.0</td>\n",
       "      <td>4.7</td>\n",
       "      <td>Has Interchange</td>\n",
       "    </tr>\n",
       "    <tr>\n",
       "      <th>...</th>\n",
       "      <td>...</td>\n",
       "      <td>...</td>\n",
       "      <td>...</td>\n",
       "      <td>...</td>\n",
       "    </tr>\n",
       "    <tr>\n",
       "      <th>656</th>\n",
       "      <td>TRUNK</td>\n",
       "      <td>0.0</td>\n",
       "      <td>1.8</td>\n",
       "      <td>Has Interchange</td>\n",
       "    </tr>\n",
       "    <tr>\n",
       "      <th>657</th>\n",
       "      <td>TRUNK</td>\n",
       "      <td>0.0</td>\n",
       "      <td>3.0</td>\n",
       "      <td>Has Interchange</td>\n",
       "    </tr>\n",
       "    <tr>\n",
       "      <th>658</th>\n",
       "      <td>TRUNK</td>\n",
       "      <td>0.0</td>\n",
       "      <td>8.4</td>\n",
       "      <td>Has Interchange</td>\n",
       "    </tr>\n",
       "    <tr>\n",
       "      <th>659</th>\n",
       "      <td>TRUNK</td>\n",
       "      <td>10.0</td>\n",
       "      <td>5.4</td>\n",
       "      <td>Has Interchange</td>\n",
       "    </tr>\n",
       "    <tr>\n",
       "      <th>660</th>\n",
       "      <td>TRUNK</td>\n",
       "      <td>10.0</td>\n",
       "      <td>4.9</td>\n",
       "      <td>Does Not Have Interchange</td>\n",
       "    </tr>\n",
       "  </tbody>\n",
       "</table>\n",
       "<p>661 rows × 4 columns</p>\n",
       "</div>"
      ],
      "text/plain": [
       "    Category  Freq_of_Buses_during_Peak_Period  Distance  \\\n",
       "0      TRUNK                               9.0      31.7   \n",
       "1      TRUNK                               9.0      31.9   \n",
       "2      TRUNK                               6.0      23.6   \n",
       "3      TRUNK                               7.0      23.3   \n",
       "4      TRUNK                              15.0       4.7   \n",
       "..       ...                               ...       ...   \n",
       "656    TRUNK                               0.0       1.8   \n",
       "657    TRUNK                               0.0       3.0   \n",
       "658    TRUNK                               0.0       8.4   \n",
       "659    TRUNK                              10.0       5.4   \n",
       "660    TRUNK                              10.0       4.9   \n",
       "\n",
       "                   Interchange  \n",
       "0              Has Interchange  \n",
       "1              Has Interchange  \n",
       "2              Has Interchange  \n",
       "3              Has Interchange  \n",
       "4              Has Interchange  \n",
       "..                         ...  \n",
       "656            Has Interchange  \n",
       "657            Has Interchange  \n",
       "658            Has Interchange  \n",
       "659            Has Interchange  \n",
       "660  Does Not Have Interchange  \n",
       "\n",
       "[661 rows x 4 columns]"
      ]
     },
     "metadata": {},
     "output_type": "display_data"
    },
    {
     "name": "stdout",
     "output_type": "stream",
     "text": [
      "Off-Peak Period\n"
     ]
    },
    {
     "data": {
      "text/html": [
       "<div>\n",
       "<style scoped>\n",
       "    .dataframe tbody tr th:only-of-type {\n",
       "        vertical-align: middle;\n",
       "    }\n",
       "\n",
       "    .dataframe tbody tr th {\n",
       "        vertical-align: top;\n",
       "    }\n",
       "\n",
       "    .dataframe thead th {\n",
       "        text-align: right;\n",
       "    }\n",
       "</style>\n",
       "<table border=\"1\" class=\"dataframe\">\n",
       "  <thead>\n",
       "    <tr style=\"text-align: right;\">\n",
       "      <th></th>\n",
       "      <th>Category</th>\n",
       "      <th>Freq_of_Buses_during_OffPeak_Period</th>\n",
       "      <th>Distance</th>\n",
       "      <th>Interchange</th>\n",
       "    </tr>\n",
       "  </thead>\n",
       "  <tbody>\n",
       "    <tr>\n",
       "      <th>0</th>\n",
       "      <td>TRUNK</td>\n",
       "      <td>8.0</td>\n",
       "      <td>31.7</td>\n",
       "      <td>Has Interchange</td>\n",
       "    </tr>\n",
       "    <tr>\n",
       "      <th>1</th>\n",
       "      <td>TRUNK</td>\n",
       "      <td>11.0</td>\n",
       "      <td>31.9</td>\n",
       "      <td>Has Interchange</td>\n",
       "    </tr>\n",
       "    <tr>\n",
       "      <th>2</th>\n",
       "      <td>TRUNK</td>\n",
       "      <td>9.0</td>\n",
       "      <td>23.6</td>\n",
       "      <td>Has Interchange</td>\n",
       "    </tr>\n",
       "    <tr>\n",
       "      <th>3</th>\n",
       "      <td>TRUNK</td>\n",
       "      <td>9.0</td>\n",
       "      <td>23.3</td>\n",
       "      <td>Has Interchange</td>\n",
       "    </tr>\n",
       "    <tr>\n",
       "      <th>4</th>\n",
       "      <td>TRUNK</td>\n",
       "      <td>10.0</td>\n",
       "      <td>4.7</td>\n",
       "      <td>Has Interchange</td>\n",
       "    </tr>\n",
       "    <tr>\n",
       "      <th>...</th>\n",
       "      <td>...</td>\n",
       "      <td>...</td>\n",
       "      <td>...</td>\n",
       "      <td>...</td>\n",
       "    </tr>\n",
       "    <tr>\n",
       "      <th>656</th>\n",
       "      <td>TRUNK</td>\n",
       "      <td>7.0</td>\n",
       "      <td>1.8</td>\n",
       "      <td>Has Interchange</td>\n",
       "    </tr>\n",
       "    <tr>\n",
       "      <th>657</th>\n",
       "      <td>TRUNK</td>\n",
       "      <td>9.0</td>\n",
       "      <td>3.0</td>\n",
       "      <td>Has Interchange</td>\n",
       "    </tr>\n",
       "    <tr>\n",
       "      <th>658</th>\n",
       "      <td>TRUNK</td>\n",
       "      <td>17.0</td>\n",
       "      <td>8.4</td>\n",
       "      <td>Has Interchange</td>\n",
       "    </tr>\n",
       "    <tr>\n",
       "      <th>659</th>\n",
       "      <td>TRUNK</td>\n",
       "      <td>0.0</td>\n",
       "      <td>5.4</td>\n",
       "      <td>Has Interchange</td>\n",
       "    </tr>\n",
       "    <tr>\n",
       "      <th>660</th>\n",
       "      <td>TRUNK</td>\n",
       "      <td>0.0</td>\n",
       "      <td>4.9</td>\n",
       "      <td>Does Not Have Interchange</td>\n",
       "    </tr>\n",
       "  </tbody>\n",
       "</table>\n",
       "<p>661 rows × 4 columns</p>\n",
       "</div>"
      ],
      "text/plain": [
       "    Category  Freq_of_Buses_during_OffPeak_Period  Distance  \\\n",
       "0      TRUNK                                  8.0      31.7   \n",
       "1      TRUNK                                 11.0      31.9   \n",
       "2      TRUNK                                  9.0      23.6   \n",
       "3      TRUNK                                  9.0      23.3   \n",
       "4      TRUNK                                 10.0       4.7   \n",
       "..       ...                                  ...       ...   \n",
       "656    TRUNK                                  7.0       1.8   \n",
       "657    TRUNK                                  9.0       3.0   \n",
       "658    TRUNK                                 17.0       8.4   \n",
       "659    TRUNK                                  0.0       5.4   \n",
       "660    TRUNK                                  0.0       4.9   \n",
       "\n",
       "                   Interchange  \n",
       "0              Has Interchange  \n",
       "1              Has Interchange  \n",
       "2              Has Interchange  \n",
       "3              Has Interchange  \n",
       "4              Has Interchange  \n",
       "..                         ...  \n",
       "656            Has Interchange  \n",
       "657            Has Interchange  \n",
       "658            Has Interchange  \n",
       "659            Has Interchange  \n",
       "660  Does Not Have Interchange  \n",
       "\n",
       "[661 rows x 4 columns]"
      ]
     },
     "metadata": {},
     "output_type": "display_data"
    },
    {
     "data": {
      "application/vnd.plotly.v1+json": {
       "config": {
        "plotlyServerURL": "https://plot.ly"
       },
       "data": [
        {
         "marker": {
          "color": "teal"
         },
         "name": "Trunk",
         "type": "box",
         "x": [
          "Has Interchange",
          "Has Interchange",
          "Has Interchange",
          "Has Interchange",
          "Has Interchange",
          "Has Interchange",
          "Has Interchange",
          "Has Interchange",
          "Has Interchange",
          "Has Interchange",
          "Has Interchange",
          "Has Interchange",
          "Has Interchange",
          "Has Interchange",
          "Has Interchange",
          "Has Interchange",
          "Has Interchange",
          "Has Interchange",
          "Has Interchange",
          "Has Interchange",
          "Has Interchange",
          "Does Not Have Interchange",
          "Does Not Have Interchange",
          "Does Not Have Interchange",
          "Has Interchange",
          "Has Interchange",
          "Has Interchange",
          "Does Not Have Interchange",
          "Does Not Have Interchange",
          "Has Interchange",
          "Has Interchange",
          "Has Interchange",
          "Does Not Have Interchange",
          "Has Interchange",
          "Has Interchange",
          "Has Interchange",
          "Does Not Have Interchange",
          "Does Not Have Interchange",
          "Has Interchange",
          "Has Interchange",
          "Has Interchange",
          "Does Not Have Interchange",
          "Does Not Have Interchange",
          "Does Not Have Interchange",
          "Has Interchange",
          "Has Interchange",
          "Has Interchange",
          "Has Interchange",
          "Has Interchange",
          "Does Not Have Interchange",
          "Does Not Have Interchange",
          "Has Interchange",
          "Has Interchange",
          "Does Not Have Interchange",
          "Has Interchange",
          "Has Interchange",
          "Has Interchange",
          "Has Interchange",
          "Has Interchange",
          "Has Interchange",
          "Has Interchange",
          "Has Interchange",
          "Has Interchange",
          "Has Interchange",
          "Does Not Have Interchange",
          "Has Interchange",
          "Has Interchange",
          "Has Interchange",
          "Has Interchange",
          "Has Interchange",
          "Does Not Have Interchange",
          "Has Interchange",
          "Has Interchange",
          "Has Interchange",
          "Has Interchange",
          "Does Not Have Interchange",
          "Does Not Have Interchange",
          "Does Not Have Interchange",
          "Has Interchange",
          "Has Interchange",
          "Has Interchange",
          "Has Interchange",
          "Has Interchange",
          "Has Interchange",
          "Does Not Have Interchange",
          "Has Interchange",
          "Has Interchange",
          "Does Not Have Interchange",
          "Has Interchange",
          "Has Interchange",
          "Has Interchange",
          "Has Interchange",
          "Has Interchange",
          "Has Interchange",
          "Has Interchange",
          "Has Interchange",
          "Has Interchange",
          "Does Not Have Interchange",
          "Has Interchange",
          "Has Interchange",
          "Has Interchange",
          "Has Interchange",
          "Has Interchange",
          "Has Interchange",
          "Has Interchange",
          "Has Interchange",
          "Has Interchange",
          "Has Interchange",
          "Has Interchange",
          "Has Interchange",
          "Does Not Have Interchange",
          "Has Interchange",
          "Has Interchange",
          "Has Interchange",
          "Has Interchange",
          "Has Interchange",
          "Has Interchange",
          "Has Interchange",
          "Has Interchange",
          "Does Not Have Interchange",
          "Has Interchange",
          "Has Interchange",
          "Has Interchange",
          "Has Interchange",
          "Has Interchange",
          "Has Interchange",
          "Has Interchange",
          "Has Interchange",
          "Has Interchange",
          "Has Interchange",
          "Has Interchange",
          "Has Interchange",
          "Has Interchange",
          "Has Interchange",
          "Has Interchange",
          "Has Interchange",
          "Has Interchange",
          "Has Interchange",
          "Has Interchange",
          "Has Interchange",
          "Has Interchange",
          "Has Interchange",
          "Has Interchange",
          "Has Interchange",
          "Has Interchange",
          "Has Interchange",
          "Has Interchange",
          "Has Interchange",
          "Has Interchange",
          "Has Interchange",
          "Has Interchange",
          "Does Not Have Interchange",
          "Does Not Have Interchange",
          "Does Not Have Interchange",
          "Does Not Have Interchange",
          "Does Not Have Interchange",
          "Has Interchange",
          "Has Interchange",
          "Has Interchange",
          "Has Interchange",
          "Has Interchange",
          "Has Interchange",
          "Has Interchange",
          "Has Interchange",
          "Has Interchange",
          "Has Interchange",
          "Has Interchange",
          "Has Interchange",
          "Has Interchange",
          "Has Interchange",
          "Has Interchange",
          "Has Interchange",
          "Has Interchange",
          "Has Interchange",
          "Has Interchange",
          "Has Interchange",
          "Has Interchange",
          "Has Interchange",
          "Has Interchange",
          "Has Interchange",
          "Has Interchange",
          "Has Interchange",
          "Has Interchange",
          "Has Interchange",
          "Does Not Have Interchange",
          "Does Not Have Interchange",
          "Does Not Have Interchange",
          "Does Not Have Interchange",
          "Does Not Have Interchange",
          "Has Interchange",
          "Has Interchange",
          "Has Interchange",
          "Has Interchange",
          "Has Interchange",
          "Has Interchange",
          "Has Interchange",
          "Has Interchange",
          "Has Interchange",
          "Has Interchange",
          "Does Not Have Interchange",
          "Has Interchange",
          "Has Interchange",
          "Has Interchange",
          "Has Interchange",
          "Has Interchange",
          "Does Not Have Interchange",
          "Does Not Have Interchange",
          "Has Interchange",
          "Has Interchange",
          "Has Interchange",
          "Has Interchange",
          "Has Interchange",
          "Has Interchange",
          "Has Interchange",
          "Has Interchange",
          "Has Interchange",
          "Does Not Have Interchange",
          "Has Interchange",
          "Has Interchange",
          "Does Not Have Interchange",
          "Does Not Have Interchange",
          "Does Not Have Interchange",
          "Has Interchange",
          "Has Interchange",
          "Does Not Have Interchange",
          "Has Interchange",
          "Has Interchange",
          "Has Interchange",
          "Has Interchange",
          "Does Not Have Interchange",
          "Has Interchange",
          "Has Interchange",
          "Has Interchange",
          "Has Interchange",
          "Has Interchange",
          "Has Interchange",
          "Has Interchange",
          "Has Interchange",
          "Has Interchange",
          "Has Interchange",
          "Has Interchange",
          "Has Interchange",
          "Has Interchange",
          "Has Interchange",
          "Has Interchange",
          "Has Interchange",
          "Has Interchange",
          "Has Interchange",
          "Has Interchange",
          "Has Interchange",
          "Has Interchange",
          "Has Interchange",
          "Has Interchange",
          "Does Not Have Interchange",
          "Has Interchange",
          "Has Interchange",
          "Has Interchange",
          "Does Not Have Interchange",
          "Has Interchange",
          "Has Interchange",
          "Does Not Have Interchange",
          "Does Not Have Interchange",
          "Does Not Have Interchange",
          "Has Interchange",
          "Has Interchange",
          "Has Interchange",
          "Has Interchange",
          "Has Interchange",
          "Has Interchange",
          "Has Interchange",
          "Has Interchange",
          "Has Interchange",
          "Does Not Have Interchange",
          "Has Interchange",
          "Does Not Have Interchange",
          "Has Interchange",
          "Has Interchange",
          "Has Interchange",
          "Does Not Have Interchange",
          "Has Interchange",
          "Has Interchange",
          "Has Interchange",
          "Does Not Have Interchange",
          "Does Not Have Interchange",
          "Does Not Have Interchange",
          "Has Interchange",
          "Has Interchange",
          "Does Not Have Interchange",
          "Does Not Have Interchange",
          "Does Not Have Interchange",
          "Has Interchange",
          "Has Interchange",
          "Has Interchange",
          "Has Interchange",
          "Has Interchange",
          "Has Interchange",
          "Has Interchange",
          "Has Interchange",
          "Has Interchange",
          "Has Interchange",
          "Has Interchange",
          "Does Not Have Interchange",
          "Does Not Have Interchange",
          "Has Interchange",
          "Has Interchange",
          "Has Interchange",
          "Has Interchange",
          "Has Interchange",
          "Has Interchange",
          "Has Interchange",
          "Has Interchange",
          "Has Interchange",
          "Has Interchange",
          "Has Interchange",
          "Does Not Have Interchange",
          "Has Interchange",
          "Has Interchange",
          "Has Interchange",
          "Has Interchange",
          "Has Interchange",
          "Has Interchange",
          "Has Interchange",
          "Has Interchange",
          "Has Interchange",
          "Has Interchange",
          "Has Interchange",
          "Has Interchange",
          "Does Not Have Interchange",
          "Has Interchange",
          "Has Interchange",
          "Has Interchange",
          "Has Interchange",
          "Has Interchange",
          "Has Interchange",
          "Has Interchange",
          "Has Interchange",
          "Has Interchange",
          "Has Interchange",
          "Has Interchange",
          "Has Interchange",
          "Has Interchange",
          "Has Interchange",
          "Has Interchange",
          "Has Interchange",
          "Has Interchange",
          "Does Not Have Interchange",
          "Does Not Have Interchange",
          "Does Not Have Interchange",
          "Has Interchange",
          "Does Not Have Interchange",
          "Has Interchange",
          "Has Interchange",
          "Has Interchange",
          "Has Interchange",
          "Has Interchange",
          "Has Interchange",
          "Has Interchange",
          "Has Interchange",
          "Has Interchange",
          "Has Interchange",
          "Does Not Have Interchange",
          "Does Not Have Interchange",
          "Does Not Have Interchange",
          "Has Interchange",
          "Has Interchange",
          "Has Interchange",
          "Has Interchange",
          "Has Interchange",
          "Has Interchange",
          "Has Interchange",
          "Has Interchange",
          "Has Interchange",
          "Has Interchange",
          "Has Interchange",
          "Has Interchange",
          "Has Interchange",
          "Has Interchange",
          "Has Interchange",
          "Has Interchange",
          "Has Interchange",
          "Has Interchange",
          "Has Interchange",
          "Has Interchange",
          "Has Interchange",
          "Has Interchange",
          "Has Interchange",
          "Has Interchange",
          "Has Interchange",
          "Has Interchange",
          "Has Interchange",
          "Has Interchange",
          "Has Interchange",
          "Has Interchange",
          "Has Interchange",
          "Has Interchange",
          "Has Interchange",
          "Has Interchange",
          "Has Interchange",
          "Has Interchange",
          "Has Interchange",
          "Has Interchange",
          "Has Interchange",
          "Has Interchange",
          "Has Interchange",
          "Has Interchange",
          "Has Interchange",
          "Has Interchange",
          "Has Interchange",
          "Has Interchange",
          "Has Interchange",
          "Has Interchange",
          "Has Interchange",
          "Has Interchange",
          "Has Interchange",
          "Has Interchange",
          "Has Interchange",
          "Has Interchange",
          "Has Interchange",
          "Has Interchange",
          "Does Not Have Interchange",
          "Does Not Have Interchange",
          "Does Not Have Interchange",
          "Has Interchange",
          "Does Not Have Interchange",
          "Has Interchange",
          "Has Interchange",
          "Has Interchange",
          "Does Not Have Interchange",
          "Does Not Have Interchange",
          "Has Interchange",
          "Has Interchange",
          "Has Interchange",
          "Has Interchange",
          "Has Interchange",
          "Does Not Have Interchange",
          "Does Not Have Interchange",
          "Does Not Have Interchange",
          "Has Interchange",
          "Has Interchange",
          "Has Interchange",
          "Has Interchange",
          "Does Not Have Interchange",
          "Has Interchange",
          "Does Not Have Interchange",
          "Has Interchange",
          "Has Interchange",
          "Has Interchange",
          "Has Interchange",
          "Has Interchange",
          "Has Interchange",
          "Has Interchange",
          "Has Interchange",
          "Does Not Have Interchange",
          "Does Not Have Interchange",
          "Has Interchange",
          "Has Interchange",
          "Has Interchange",
          "Has Interchange",
          "Has Interchange",
          "Has Interchange",
          "Has Interchange",
          "Has Interchange",
          "Has Interchange",
          "Has Interchange",
          "Has Interchange",
          "Has Interchange",
          "Has Interchange",
          "Does Not Have Interchange",
          "Does Not Have Interchange",
          "Does Not Have Interchange",
          "Does Not Have Interchange",
          "Does Not Have Interchange",
          "Does Not Have Interchange",
          "Has Interchange",
          "Has Interchange",
          "Does Not Have Interchange",
          "Does Not Have Interchange",
          "Does Not Have Interchange",
          "Does Not Have Interchange",
          "Has Interchange",
          "Has Interchange",
          "Has Interchange",
          "Has Interchange",
          "Has Interchange",
          "Has Interchange",
          "Has Interchange",
          "Has Interchange",
          "Has Interchange",
          "Does Not Have Interchange",
          "Does Not Have Interchange",
          "Has Interchange",
          "Has Interchange",
          "Has Interchange",
          "Has Interchange",
          "Has Interchange",
          "Has Interchange",
          "Has Interchange",
          "Has Interchange",
          "Has Interchange",
          "Has Interchange",
          "Does Not Have Interchange"
         ],
         "xaxis": "x",
         "y": [
          9,
          9,
          6,
          7,
          15,
          8,
          10,
          9,
          9,
          8,
          8,
          7,
          8,
          7,
          6,
          8,
          11,
          13,
          8,
          10,
          14,
          15,
          10,
          10,
          10,
          0,
          15,
          8,
          31,
          9,
          12,
          13,
          6,
          0,
          8,
          7,
          7,
          15,
          16,
          9,
          9,
          11,
          10,
          12,
          11,
          11,
          11,
          6,
          5,
          10,
          3,
          10,
          0,
          7,
          7,
          12,
          12,
          9,
          9,
          9,
          11,
          5,
          8,
          9,
          10,
          25,
          11,
          9,
          8,
          9,
          11,
          10,
          0,
          9,
          9,
          15,
          15,
          7,
          9,
          0,
          11,
          9,
          10,
          10,
          5,
          11,
          11,
          14,
          12,
          10,
          8,
          0,
          9,
          10,
          13,
          7,
          6,
          4,
          7,
          7,
          8,
          9,
          5,
          12,
          7,
          7,
          9,
          9,
          5,
          7,
          11,
          4,
          12,
          10,
          10,
          10,
          8,
          8,
          12,
          12,
          6,
          8,
          6,
          1,
          4,
          9,
          10,
          14,
          14,
          6,
          5,
          9,
          13,
          12,
          9,
          8,
          0,
          9,
          9,
          8,
          9,
          12,
          10,
          5,
          5,
          4,
          5,
          8,
          16,
          9,
          5,
          15,
          15,
          19,
          4,
          5,
          10,
          10,
          6,
          6,
          8,
          0,
          10,
          13,
          13,
          10,
          8,
          7,
          12,
          10,
          14,
          7,
          4,
          1,
          7,
          13,
          4,
          12,
          6,
          3,
          3,
          4,
          5,
          1,
          6,
          11,
          10,
          12,
          11,
          7,
          6,
          6,
          8,
          6,
          3,
          6,
          4,
          6,
          2,
          15,
          6,
          6,
          6,
          8,
          9,
          8,
          0,
          8,
          9,
          0,
          10,
          8,
          5,
          4,
          4,
          5,
          9,
          8,
          9,
          9,
          0,
          10,
          9,
          9,
          2,
          8,
          9,
          6,
          8,
          18,
          5,
          5,
          7,
          8,
          8,
          6,
          2,
          11,
          8,
          8,
          13,
          17,
          7,
          8,
          11,
          8,
          7,
          9,
          4,
          12,
          12,
          10,
          8,
          0,
          8,
          6,
          9,
          6,
          9,
          0,
          8,
          0,
          8,
          9,
          9,
          9,
          7,
          8,
          4,
          7,
          10,
          13,
          14,
          12,
          10,
          11,
          11,
          10,
          9,
          11,
          12,
          5,
          8,
          9,
          13,
          12,
          12,
          9,
          8,
          9,
          9,
          9,
          8,
          9,
          9,
          10,
          10,
          0,
          10,
          9,
          6,
          0,
          6,
          11,
          12,
          9,
          9,
          0,
          11,
          10,
          10,
          9,
          9,
          7,
          0,
          0,
          11,
          9,
          7,
          5,
          5,
          8,
          8,
          11,
          14,
          7,
          11,
          12,
          9,
          9,
          10,
          10,
          0,
          0,
          0,
          7,
          7,
          0,
          0,
          15,
          6,
          9,
          8,
          6,
          7,
          7,
          11,
          11,
          0,
          6,
          14,
          12,
          3,
          3,
          5,
          1,
          10,
          0,
          5,
          7,
          7,
          8,
          0,
          10,
          9,
          10,
          11,
          6,
          1,
          7,
          0,
          19,
          18,
          5,
          5,
          9,
          9,
          6,
          8,
          15,
          8,
          10,
          10,
          10,
          10,
          9,
          8,
          11,
          12,
          10,
          10,
          11,
          12,
          6,
          5,
          11,
          12,
          5,
          3,
          15,
          4,
          6,
          5,
          0,
          9,
          9,
          8,
          9,
          8,
          9,
          9,
          2,
          4,
          4,
          6,
          7,
          13,
          10,
          7,
          0,
          7,
          5,
          8,
          13,
          6,
          13,
          6,
          9,
          8,
          9,
          9,
          10,
          0,
          13,
          2,
          2,
          11,
          12,
          12,
          11,
          5,
          8,
          11,
          13,
          5,
          9,
          9,
          9,
          9,
          11,
          13,
          7,
          27,
          4,
          6,
          7,
          4,
          6,
          4,
          6,
          4,
          4,
          4,
          4,
          2,
          7,
          9,
          10,
          11,
          4,
          0,
          10,
          0,
          15,
          15,
          0,
          6,
          10,
          4,
          6,
          13,
          15,
          6,
          9,
          5,
          0,
          9,
          9,
          3,
          2,
          0,
          5,
          6,
          12,
          10,
          10,
          0,
          0,
          0,
          10,
          10
         ],
         "yaxis": "y"
        },
        {
         "marker": {
          "color": "maroon"
         },
         "name": "Express",
         "type": "box",
         "x": [
          "Does Not Have Interchange",
          "Does Not Have Interchange",
          "Has Interchange",
          "Has Interchange",
          "Has Interchange",
          "Has Interchange",
          "Does Not Have Interchange",
          "Does Not Have Interchange",
          "Has Interchange",
          "Has Interchange",
          "Has Interchange",
          "Has Interchange",
          "Has Interchange",
          "Has Interchange",
          "Has Interchange",
          "Has Interchange",
          "Has Interchange",
          "Does Not Have Interchange",
          "Does Not Have Interchange",
          "Has Interchange",
          "Has Interchange",
          "Does Not Have Interchange",
          "Does Not Have Interchange",
          "Has Interchange",
          "Has Interchange",
          "Does Not Have Interchange",
          "Does Not Have Interchange",
          "Has Interchange",
          "Has Interchange",
          "Does Not Have Interchange",
          "Does Not Have Interchange",
          "Does Not Have Interchange",
          "Does Not Have Interchange",
          "Does Not Have Interchange",
          "Does Not Have Interchange",
          "Does Not Have Interchange",
          "Does Not Have Interchange",
          "Does Not Have Interchange",
          "Does Not Have Interchange",
          "Has Interchange",
          "Has Interchange",
          "Does Not Have Interchange",
          "Does Not Have Interchange",
          "Has Interchange",
          "Has Interchange",
          "Has Interchange",
          "Does Not Have Interchange",
          "Has Interchange",
          "Has Interchange",
          "Does Not Have Interchange",
          "Does Not Have Interchange",
          "Has Interchange",
          "Has Interchange",
          "Has Interchange",
          "Has Interchange",
          "Has Interchange",
          "Has Interchange",
          "Does Not Have Interchange",
          "Does Not Have Interchange",
          "Has Interchange",
          "Has Interchange",
          "Does Not Have Interchange",
          "Does Not Have Interchange"
         ],
         "xaxis": "x",
         "y": [
          5,
          5,
          20,
          20,
          20,
          20,
          6,
          6,
          7,
          7,
          25,
          25,
          6,
          6,
          32,
          14,
          7,
          4,
          4,
          6,
          6,
          13,
          10,
          14,
          14,
          3,
          7,
          16,
          15,
          5,
          7,
          3,
          7,
          10,
          7,
          7,
          7,
          4,
          7,
          7,
          7,
          2,
          7,
          20,
          20,
          7,
          7,
          5,
          6,
          3,
          7,
          25,
          25,
          32,
          15,
          10,
          15,
          3,
          5,
          6,
          6,
          7,
          7
         ],
         "yaxis": "y"
        },
        {
         "marker": {
          "color": "black"
         },
         "name": "Feeder",
         "type": "box",
         "x": [
          "Has Interchange",
          "Has Interchange",
          "Does Not Have Interchange",
          "Has Interchange",
          "Has Interchange",
          "Has Interchange",
          "Has Interchange",
          "Has Interchange",
          "Has Interchange",
          "Has Interchange",
          "Has Interchange",
          "Has Interchange",
          "Has Interchange",
          "Has Interchange",
          "Does Not Have Interchange",
          "Has Interchange",
          "Does Not Have Interchange",
          "Has Interchange",
          "Has Interchange",
          "Has Interchange",
          "Has Interchange",
          "Has Interchange",
          "Has Interchange",
          "Has Interchange",
          "Has Interchange",
          "Does Not Have Interchange",
          "Does Not Have Interchange",
          "Does Not Have Interchange",
          "Does Not Have Interchange",
          "Has Interchange",
          "Has Interchange",
          "Has Interchange",
          "Has Interchange",
          "Has Interchange",
          "Has Interchange",
          "Has Interchange",
          "Has Interchange",
          "Has Interchange",
          "Has Interchange",
          "Has Interchange",
          "Has Interchange",
          "Has Interchange",
          "Has Interchange",
          "Does Not Have Interchange",
          "Has Interchange",
          "Has Interchange",
          "Has Interchange",
          "Has Interchange",
          "Has Interchange",
          "Has Interchange",
          "Has Interchange",
          "Has Interchange",
          "Has Interchange",
          "Has Interchange",
          "Has Interchange",
          "Has Interchange",
          "Has Interchange",
          "Does Not Have Interchange",
          "Has Interchange",
          "Has Interchange",
          "Has Interchange",
          "Has Interchange",
          "Has Interchange",
          "Has Interchange",
          "Has Interchange",
          "Has Interchange",
          "Has Interchange",
          "Has Interchange",
          "Has Interchange",
          "Has Interchange",
          "Has Interchange",
          "Has Interchange",
          "Has Interchange",
          "Has Interchange",
          "Has Interchange",
          "Has Interchange",
          "Has Interchange",
          "Has Interchange",
          "Has Interchange",
          "Has Interchange",
          "Has Interchange",
          "Has Interchange",
          "Has Interchange",
          "Has Interchange",
          "Has Interchange",
          "Has Interchange",
          "Has Interchange",
          "Has Interchange",
          "Has Interchange",
          "Has Interchange",
          "Has Interchange",
          "Does Not Have Interchange",
          "Does Not Have Interchange",
          "Has Interchange",
          "Has Interchange",
          "Has Interchange",
          "Has Interchange"
         ],
         "xaxis": "x",
         "y": [
          4,
          13,
          33,
          3,
          4,
          3,
          4,
          8,
          7,
          9,
          5,
          6,
          2,
          6,
          2,
          4,
          2,
          6,
          4,
          4,
          4,
          4,
          4,
          7,
          5,
          6,
          14,
          33,
          32,
          4,
          8,
          8,
          7,
          7,
          4,
          5,
          3,
          8,
          4,
          10,
          4,
          6,
          3,
          6,
          5,
          10,
          8,
          7,
          9,
          9,
          10,
          7,
          5,
          7,
          6,
          10,
          8,
          10,
          10,
          8,
          8,
          7,
          11,
          4,
          5,
          5,
          4,
          5,
          4,
          4,
          6,
          3,
          3,
          2,
          4,
          2,
          5,
          7,
          7,
          5,
          1,
          5,
          22,
          9,
          3,
          22,
          5,
          2,
          20,
          2,
          15,
          5,
          6,
          6,
          12,
          6,
          5
         ],
         "yaxis": "y"
        },
        {
         "marker": {
          "color": "teal"
         },
         "showlegend": false,
         "type": "box",
         "x": [
          "Has Interchange",
          "Has Interchange",
          "Has Interchange",
          "Has Interchange",
          "Has Interchange",
          "Has Interchange",
          "Has Interchange",
          "Has Interchange",
          "Has Interchange",
          "Has Interchange",
          "Has Interchange",
          "Has Interchange",
          "Has Interchange",
          "Has Interchange",
          "Has Interchange",
          "Has Interchange",
          "Has Interchange",
          "Has Interchange",
          "Has Interchange",
          "Has Interchange",
          "Has Interchange",
          "Does Not Have Interchange",
          "Does Not Have Interchange",
          "Does Not Have Interchange",
          "Has Interchange",
          "Has Interchange",
          "Has Interchange",
          "Does Not Have Interchange",
          "Does Not Have Interchange",
          "Has Interchange",
          "Has Interchange",
          "Has Interchange",
          "Does Not Have Interchange",
          "Has Interchange",
          "Has Interchange",
          "Has Interchange",
          "Does Not Have Interchange",
          "Does Not Have Interchange",
          "Has Interchange",
          "Has Interchange",
          "Has Interchange",
          "Does Not Have Interchange",
          "Does Not Have Interchange",
          "Does Not Have Interchange",
          "Has Interchange",
          "Has Interchange",
          "Has Interchange",
          "Has Interchange",
          "Has Interchange",
          "Does Not Have Interchange",
          "Does Not Have Interchange",
          "Has Interchange",
          "Has Interchange",
          "Does Not Have Interchange",
          "Has Interchange",
          "Has Interchange",
          "Has Interchange",
          "Has Interchange",
          "Has Interchange",
          "Has Interchange",
          "Has Interchange",
          "Has Interchange",
          "Has Interchange",
          "Has Interchange",
          "Does Not Have Interchange",
          "Has Interchange",
          "Has Interchange",
          "Has Interchange",
          "Has Interchange",
          "Has Interchange",
          "Does Not Have Interchange",
          "Has Interchange",
          "Has Interchange",
          "Has Interchange",
          "Has Interchange",
          "Does Not Have Interchange",
          "Does Not Have Interchange",
          "Does Not Have Interchange",
          "Has Interchange",
          "Has Interchange",
          "Has Interchange",
          "Has Interchange",
          "Has Interchange",
          "Has Interchange",
          "Does Not Have Interchange",
          "Has Interchange",
          "Has Interchange",
          "Does Not Have Interchange",
          "Has Interchange",
          "Has Interchange",
          "Has Interchange",
          "Has Interchange",
          "Has Interchange",
          "Has Interchange",
          "Has Interchange",
          "Has Interchange",
          "Has Interchange",
          "Does Not Have Interchange",
          "Has Interchange",
          "Has Interchange",
          "Has Interchange",
          "Has Interchange",
          "Has Interchange",
          "Has Interchange",
          "Has Interchange",
          "Has Interchange",
          "Has Interchange",
          "Has Interchange",
          "Has Interchange",
          "Has Interchange",
          "Does Not Have Interchange",
          "Has Interchange",
          "Has Interchange",
          "Has Interchange",
          "Has Interchange",
          "Has Interchange",
          "Has Interchange",
          "Has Interchange",
          "Has Interchange",
          "Does Not Have Interchange",
          "Has Interchange",
          "Has Interchange",
          "Has Interchange",
          "Has Interchange",
          "Has Interchange",
          "Has Interchange",
          "Has Interchange",
          "Has Interchange",
          "Has Interchange",
          "Has Interchange",
          "Has Interchange",
          "Has Interchange",
          "Has Interchange",
          "Has Interchange",
          "Has Interchange",
          "Has Interchange",
          "Has Interchange",
          "Has Interchange",
          "Has Interchange",
          "Has Interchange",
          "Has Interchange",
          "Has Interchange",
          "Has Interchange",
          "Has Interchange",
          "Has Interchange",
          "Has Interchange",
          "Has Interchange",
          "Has Interchange",
          "Has Interchange",
          "Has Interchange",
          "Has Interchange",
          "Does Not Have Interchange",
          "Does Not Have Interchange",
          "Does Not Have Interchange",
          "Does Not Have Interchange",
          "Does Not Have Interchange",
          "Has Interchange",
          "Has Interchange",
          "Has Interchange",
          "Has Interchange",
          "Has Interchange",
          "Has Interchange",
          "Has Interchange",
          "Has Interchange",
          "Has Interchange",
          "Has Interchange",
          "Has Interchange",
          "Has Interchange",
          "Has Interchange",
          "Has Interchange",
          "Has Interchange",
          "Has Interchange",
          "Has Interchange",
          "Has Interchange",
          "Has Interchange",
          "Has Interchange",
          "Has Interchange",
          "Has Interchange",
          "Has Interchange",
          "Has Interchange",
          "Has Interchange",
          "Has Interchange",
          "Has Interchange",
          "Has Interchange",
          "Does Not Have Interchange",
          "Does Not Have Interchange",
          "Does Not Have Interchange",
          "Does Not Have Interchange",
          "Does Not Have Interchange",
          "Has Interchange",
          "Has Interchange",
          "Has Interchange",
          "Has Interchange",
          "Has Interchange",
          "Has Interchange",
          "Has Interchange",
          "Has Interchange",
          "Has Interchange",
          "Has Interchange",
          "Does Not Have Interchange",
          "Has Interchange",
          "Has Interchange",
          "Has Interchange",
          "Has Interchange",
          "Has Interchange",
          "Does Not Have Interchange",
          "Does Not Have Interchange",
          "Has Interchange",
          "Has Interchange",
          "Has Interchange",
          "Has Interchange",
          "Has Interchange",
          "Has Interchange",
          "Has Interchange",
          "Has Interchange",
          "Has Interchange",
          "Does Not Have Interchange",
          "Has Interchange",
          "Has Interchange",
          "Does Not Have Interchange",
          "Does Not Have Interchange",
          "Does Not Have Interchange",
          "Has Interchange",
          "Has Interchange",
          "Does Not Have Interchange",
          "Has Interchange",
          "Has Interchange",
          "Has Interchange",
          "Has Interchange",
          "Does Not Have Interchange",
          "Has Interchange",
          "Has Interchange",
          "Has Interchange",
          "Has Interchange",
          "Has Interchange",
          "Has Interchange",
          "Has Interchange",
          "Has Interchange",
          "Has Interchange",
          "Has Interchange",
          "Has Interchange",
          "Has Interchange",
          "Has Interchange",
          "Has Interchange",
          "Has Interchange",
          "Has Interchange",
          "Has Interchange",
          "Has Interchange",
          "Has Interchange",
          "Has Interchange",
          "Has Interchange",
          "Has Interchange",
          "Has Interchange",
          "Does Not Have Interchange",
          "Has Interchange",
          "Has Interchange",
          "Has Interchange",
          "Does Not Have Interchange",
          "Has Interchange",
          "Has Interchange",
          "Does Not Have Interchange",
          "Does Not Have Interchange",
          "Does Not Have Interchange",
          "Has Interchange",
          "Has Interchange",
          "Has Interchange",
          "Has Interchange",
          "Has Interchange",
          "Has Interchange",
          "Has Interchange",
          "Has Interchange",
          "Has Interchange",
          "Does Not Have Interchange",
          "Has Interchange",
          "Does Not Have Interchange",
          "Has Interchange",
          "Has Interchange",
          "Has Interchange",
          "Does Not Have Interchange",
          "Has Interchange",
          "Has Interchange",
          "Has Interchange",
          "Does Not Have Interchange",
          "Does Not Have Interchange",
          "Does Not Have Interchange",
          "Has Interchange",
          "Has Interchange",
          "Does Not Have Interchange",
          "Does Not Have Interchange",
          "Does Not Have Interchange",
          "Has Interchange",
          "Has Interchange",
          "Has Interchange",
          "Has Interchange",
          "Has Interchange",
          "Has Interchange",
          "Has Interchange",
          "Has Interchange",
          "Has Interchange",
          "Has Interchange",
          "Has Interchange",
          "Does Not Have Interchange",
          "Does Not Have Interchange",
          "Has Interchange",
          "Has Interchange",
          "Has Interchange",
          "Has Interchange",
          "Has Interchange",
          "Has Interchange",
          "Has Interchange",
          "Has Interchange",
          "Has Interchange",
          "Has Interchange",
          "Has Interchange",
          "Does Not Have Interchange",
          "Has Interchange",
          "Has Interchange",
          "Has Interchange",
          "Has Interchange",
          "Has Interchange",
          "Has Interchange",
          "Has Interchange",
          "Has Interchange",
          "Has Interchange",
          "Has Interchange",
          "Has Interchange",
          "Has Interchange",
          "Does Not Have Interchange",
          "Has Interchange",
          "Has Interchange",
          "Has Interchange",
          "Has Interchange",
          "Has Interchange",
          "Has Interchange",
          "Has Interchange",
          "Has Interchange",
          "Has Interchange",
          "Has Interchange",
          "Has Interchange",
          "Has Interchange",
          "Has Interchange",
          "Has Interchange",
          "Has Interchange",
          "Has Interchange",
          "Has Interchange",
          "Does Not Have Interchange",
          "Does Not Have Interchange",
          "Does Not Have Interchange",
          "Has Interchange",
          "Does Not Have Interchange",
          "Has Interchange",
          "Has Interchange",
          "Has Interchange",
          "Has Interchange",
          "Has Interchange",
          "Has Interchange",
          "Has Interchange",
          "Has Interchange",
          "Has Interchange",
          "Has Interchange",
          "Does Not Have Interchange",
          "Does Not Have Interchange",
          "Does Not Have Interchange",
          "Has Interchange",
          "Has Interchange",
          "Has Interchange",
          "Has Interchange",
          "Has Interchange",
          "Has Interchange",
          "Has Interchange",
          "Has Interchange",
          "Has Interchange",
          "Has Interchange",
          "Has Interchange",
          "Has Interchange",
          "Has Interchange",
          "Has Interchange",
          "Has Interchange",
          "Has Interchange",
          "Has Interchange",
          "Has Interchange",
          "Has Interchange",
          "Has Interchange",
          "Has Interchange",
          "Has Interchange",
          "Has Interchange",
          "Has Interchange",
          "Has Interchange",
          "Has Interchange",
          "Has Interchange",
          "Has Interchange",
          "Has Interchange",
          "Has Interchange",
          "Has Interchange",
          "Has Interchange",
          "Has Interchange",
          "Has Interchange",
          "Has Interchange",
          "Has Interchange",
          "Has Interchange",
          "Has Interchange",
          "Has Interchange",
          "Has Interchange",
          "Has Interchange",
          "Has Interchange",
          "Has Interchange",
          "Has Interchange",
          "Has Interchange",
          "Has Interchange",
          "Has Interchange",
          "Has Interchange",
          "Has Interchange",
          "Has Interchange",
          "Has Interchange",
          "Has Interchange",
          "Has Interchange",
          "Has Interchange",
          "Has Interchange",
          "Has Interchange",
          "Does Not Have Interchange",
          "Does Not Have Interchange",
          "Does Not Have Interchange",
          "Has Interchange",
          "Does Not Have Interchange",
          "Has Interchange",
          "Has Interchange",
          "Has Interchange",
          "Does Not Have Interchange",
          "Does Not Have Interchange",
          "Has Interchange",
          "Has Interchange",
          "Has Interchange",
          "Has Interchange",
          "Has Interchange",
          "Does Not Have Interchange",
          "Does Not Have Interchange",
          "Does Not Have Interchange",
          "Has Interchange",
          "Has Interchange",
          "Has Interchange",
          "Has Interchange",
          "Does Not Have Interchange",
          "Has Interchange",
          "Does Not Have Interchange",
          "Has Interchange",
          "Has Interchange",
          "Has Interchange",
          "Has Interchange",
          "Has Interchange",
          "Has Interchange",
          "Has Interchange",
          "Has Interchange",
          "Does Not Have Interchange",
          "Does Not Have Interchange",
          "Has Interchange",
          "Has Interchange",
          "Has Interchange",
          "Has Interchange",
          "Has Interchange",
          "Has Interchange",
          "Has Interchange",
          "Has Interchange",
          "Has Interchange",
          "Has Interchange",
          "Has Interchange",
          "Has Interchange",
          "Has Interchange",
          "Does Not Have Interchange",
          "Does Not Have Interchange",
          "Does Not Have Interchange",
          "Does Not Have Interchange",
          "Does Not Have Interchange",
          "Does Not Have Interchange",
          "Has Interchange",
          "Has Interchange",
          "Does Not Have Interchange",
          "Does Not Have Interchange",
          "Does Not Have Interchange",
          "Does Not Have Interchange",
          "Has Interchange",
          "Has Interchange",
          "Has Interchange",
          "Has Interchange",
          "Has Interchange",
          "Has Interchange",
          "Has Interchange",
          "Has Interchange",
          "Has Interchange",
          "Does Not Have Interchange",
          "Does Not Have Interchange",
          "Has Interchange",
          "Has Interchange",
          "Has Interchange",
          "Has Interchange",
          "Has Interchange",
          "Has Interchange",
          "Has Interchange",
          "Has Interchange",
          "Has Interchange",
          "Has Interchange",
          "Does Not Have Interchange"
         ],
         "xaxis": "x2",
         "y": [
          8,
          11,
          9,
          9,
          10,
          7,
          10,
          9,
          11,
          9,
          10,
          0,
          8,
          9,
          0,
          13,
          9,
          11,
          9,
          11,
          7,
          15,
          9,
          9,
          11,
          7,
          11,
          0,
          14,
          10,
          13,
          13,
          0,
          0,
          9,
          10,
          0,
          0,
          16,
          10,
          9,
          12,
          10,
          12,
          13,
          12,
          12,
          6,
          6,
          12,
          0,
          12,
          9,
          0,
          0,
          13,
          13,
          10,
          9,
          12,
          11,
          5,
          9,
          9,
          0,
          31,
          10,
          12,
          9,
          9,
          10,
          10,
          7,
          12,
          14,
          15,
          15,
          0,
          8,
          6,
          7,
          11,
          10,
          12,
          5,
          8,
          11,
          14,
          13,
          12,
          7,
          0,
          10,
          10,
          14,
          8,
          9,
          6,
          6,
          8,
          7,
          7,
          8,
          13,
          10,
          8,
          12,
          11,
          8,
          7,
          0,
          0,
          11,
          13,
          12,
          12,
          9,
          9,
          11,
          0,
          8,
          7,
          7,
          0,
          55,
          8,
          8,
          13,
          14,
          7,
          7,
          4,
          13,
          13,
          11,
          8,
          8,
          11,
          10,
          10,
          9,
          11,
          10,
          8,
          7,
          7,
          5,
          0,
          0,
          10,
          5,
          12,
          13,
          15,
          6,
          6,
          10,
          10,
          7,
          7,
          12,
          7,
          8,
          11,
          13,
          16,
          7,
          7,
          6,
          10,
          13,
          0,
          4,
          2,
          16,
          12,
          9,
          5,
          6,
          0,
          12,
          9,
          10,
          1,
          6,
          12,
          12,
          11,
          13,
          7,
          6,
          10,
          7,
          7,
          11,
          7,
          5,
          4,
          0,
          17,
          7,
          10,
          6,
          7,
          12,
          7,
          11,
          7,
          8,
          0,
          9,
          11,
          5,
          7,
          4,
          5,
          11,
          10,
          10,
          11,
          0,
          11,
          10,
          10,
          0,
          11,
          9,
          6,
          10,
          0,
          8,
          5,
          9,
          8,
          8,
          7,
          3,
          10,
          9,
          8,
          18,
          0,
          10,
          10,
          8,
          9,
          10,
          10,
          5,
          12,
          12,
          10,
          9,
          0,
          4,
          8,
          13,
          7,
          12,
          7,
          8,
          5,
          4,
          10,
          10,
          9,
          11,
          10,
          12,
          0,
          11,
          15,
          18,
          23,
          13,
          13,
          12,
          12,
          8,
          11,
          11,
          10,
          8,
          12,
          0,
          12,
          13,
          10,
          10,
          11,
          10,
          9,
          10,
          10,
          11,
          10,
          9,
          8,
          11,
          12,
          7,
          0,
          4,
          11,
          10,
          11,
          10,
          7,
          11,
          12,
          11,
          11,
          12,
          11,
          0,
          0,
          11,
          11,
          7,
          5,
          5,
          9,
          10,
          17,
          14,
          9,
          10,
          12,
          9,
          7,
          12,
          10,
          0,
          0,
          0,
          8,
          7,
          38,
          38,
          15,
          7,
          7,
          7,
          3,
          8,
          5,
          10,
          10,
          7,
          29,
          14,
          13,
          5,
          3,
          0,
          1,
          10,
          5,
          6,
          7,
          10,
          10,
          0,
          12,
          10,
          10,
          11,
          8,
          0,
          11,
          7,
          21,
          21,
          5,
          5,
          10,
          12,
          8,
          10,
          14,
          9,
          10,
          10,
          10,
          13,
          9,
          9,
          12,
          12,
          11,
          13,
          11,
          11,
          6,
          6,
          11,
          10,
          5,
          3,
          0,
          6,
          0,
          5,
          5,
          10,
          10,
          9,
          10,
          9,
          9,
          10,
          0,
          3,
          9,
          7,
          7,
          12,
          0,
          8,
          11,
          0,
          0,
          10,
          0,
          9,
          14,
          8,
          9,
          7,
          9,
          9,
          11,
          5,
          12,
          10,
          10,
          6,
          12,
          13,
          11,
          0,
          9,
          10,
          0,
          5,
          9,
          8,
          9,
          9,
          12,
          11,
          7,
          0,
          0,
          8,
          7,
          4,
          9,
          0,
          11,
          7,
          4,
          0,
          1,
          3,
          9,
          10,
          13,
          10,
          6,
          7,
          11,
          10,
          15,
          15,
          4,
          8,
          4,
          5,
          8,
          14,
          14,
          6,
          8,
          6,
          7,
          10,
          10,
          5,
          0,
          14,
          6,
          6,
          12,
          10,
          11,
          7,
          9,
          17,
          0,
          0
         ],
         "yaxis": "y2"
        },
        {
         "marker": {
          "color": "maroon"
         },
         "showlegend": false,
         "type": "box",
         "x": [
          "Does Not Have Interchange",
          "Does Not Have Interchange",
          "Has Interchange",
          "Has Interchange",
          "Has Interchange",
          "Has Interchange",
          "Does Not Have Interchange",
          "Does Not Have Interchange",
          "Has Interchange",
          "Has Interchange",
          "Has Interchange",
          "Has Interchange",
          "Has Interchange",
          "Has Interchange",
          "Has Interchange",
          "Has Interchange",
          "Has Interchange",
          "Does Not Have Interchange",
          "Does Not Have Interchange",
          "Has Interchange",
          "Has Interchange",
          "Does Not Have Interchange",
          "Does Not Have Interchange",
          "Has Interchange",
          "Has Interchange",
          "Does Not Have Interchange",
          "Does Not Have Interchange",
          "Has Interchange",
          "Has Interchange",
          "Does Not Have Interchange",
          "Does Not Have Interchange",
          "Does Not Have Interchange",
          "Does Not Have Interchange",
          "Does Not Have Interchange",
          "Does Not Have Interchange",
          "Does Not Have Interchange",
          "Does Not Have Interchange",
          "Does Not Have Interchange",
          "Does Not Have Interchange",
          "Has Interchange",
          "Has Interchange",
          "Does Not Have Interchange",
          "Does Not Have Interchange",
          "Has Interchange",
          "Has Interchange",
          "Has Interchange",
          "Does Not Have Interchange",
          "Has Interchange",
          "Has Interchange",
          "Does Not Have Interchange",
          "Does Not Have Interchange",
          "Has Interchange",
          "Has Interchange",
          "Has Interchange",
          "Has Interchange",
          "Has Interchange",
          "Has Interchange",
          "Does Not Have Interchange",
          "Does Not Have Interchange",
          "Has Interchange",
          "Has Interchange",
          "Does Not Have Interchange",
          "Does Not Have Interchange"
         ],
         "xaxis": "x2",
         "y": [
          0,
          0,
          25,
          20,
          20,
          20,
          0,
          0,
          0,
          0,
          30,
          25,
          0,
          0,
          28,
          30,
          0,
          0,
          0,
          0,
          0,
          15,
          0,
          15,
          16,
          0,
          0,
          14,
          0,
          0,
          0,
          0,
          0,
          0,
          0,
          0,
          0,
          0,
          0,
          0,
          0,
          0,
          0,
          20,
          25,
          0,
          0,
          0,
          0,
          0,
          0,
          30,
          25,
          31,
          28,
          0,
          0,
          0,
          0,
          0,
          0,
          0,
          0
         ],
         "yaxis": "y2"
        },
        {
         "marker": {
          "color": "black"
         },
         "showlegend": false,
         "type": "box",
         "x": [
          "Has Interchange",
          "Has Interchange",
          "Does Not Have Interchange",
          "Has Interchange",
          "Has Interchange",
          "Has Interchange",
          "Has Interchange",
          "Has Interchange",
          "Has Interchange",
          "Has Interchange",
          "Has Interchange",
          "Has Interchange",
          "Has Interchange",
          "Has Interchange",
          "Does Not Have Interchange",
          "Has Interchange",
          "Does Not Have Interchange",
          "Has Interchange",
          "Has Interchange",
          "Has Interchange",
          "Has Interchange",
          "Has Interchange",
          "Has Interchange",
          "Has Interchange",
          "Has Interchange",
          "Does Not Have Interchange",
          "Does Not Have Interchange",
          "Does Not Have Interchange",
          "Does Not Have Interchange",
          "Has Interchange",
          "Has Interchange",
          "Has Interchange",
          "Has Interchange",
          "Has Interchange",
          "Has Interchange",
          "Has Interchange",
          "Has Interchange",
          "Has Interchange",
          "Has Interchange",
          "Has Interchange",
          "Has Interchange",
          "Has Interchange",
          "Has Interchange",
          "Does Not Have Interchange",
          "Has Interchange",
          "Has Interchange",
          "Has Interchange",
          "Has Interchange",
          "Has Interchange",
          "Has Interchange",
          "Has Interchange",
          "Has Interchange",
          "Has Interchange",
          "Has Interchange",
          "Has Interchange",
          "Has Interchange",
          "Has Interchange",
          "Does Not Have Interchange",
          "Has Interchange",
          "Has Interchange",
          "Has Interchange",
          "Has Interchange",
          "Has Interchange",
          "Has Interchange",
          "Has Interchange",
          "Has Interchange",
          "Has Interchange",
          "Has Interchange",
          "Has Interchange",
          "Has Interchange",
          "Has Interchange",
          "Has Interchange",
          "Has Interchange",
          "Has Interchange",
          "Has Interchange",
          "Has Interchange",
          "Has Interchange",
          "Has Interchange",
          "Has Interchange",
          "Has Interchange",
          "Has Interchange",
          "Has Interchange",
          "Has Interchange",
          "Has Interchange",
          "Has Interchange",
          "Has Interchange",
          "Has Interchange",
          "Has Interchange",
          "Has Interchange",
          "Has Interchange",
          "Has Interchange",
          "Does Not Have Interchange",
          "Does Not Have Interchange",
          "Has Interchange",
          "Has Interchange",
          "Has Interchange",
          "Has Interchange"
         ],
         "xaxis": "x2",
         "y": [
          4,
          0,
          23,
          3,
          4,
          3,
          4,
          8,
          7,
          8,
          5,
          7,
          2,
          7,
          0,
          3,
          2,
          6,
          3,
          3,
          3,
          3,
          5,
          9,
          6,
          7,
          0,
          0,
          0,
          4,
          15,
          9,
          7,
          9,
          5,
          5,
          4,
          9,
          5,
          10,
          3,
          6,
          5,
          0,
          5,
          10,
          9,
          8,
          9,
          9,
          11,
          8,
          5,
          7,
          7,
          8,
          8,
          11,
          10,
          8,
          8,
          15,
          12,
          4,
          5,
          6,
          4,
          5,
          5,
          5,
          6,
          4,
          3,
          2,
          4,
          4,
          5,
          5,
          3,
          7,
          1,
          6,
          0,
          10,
          3,
          20,
          6,
          8,
          0,
          2,
          17,
          5,
          6,
          6,
          14,
          6,
          7
         ],
         "yaxis": "y2"
        }
       ],
       "layout": {
        "annotations": [
         {
          "align": "center",
          "font": {
           "size": 15
          },
          "showarrow": false,
          "text": "Peak Hour",
          "x": 0.18,
          "xref": "paper",
          "y": 1.1,
          "yref": "paper"
         },
         {
          "align": "center",
          "font": {
           "size": 15
          },
          "showarrow": false,
          "text": "Off-Peak Hour",
          "x": 0.77,
          "xanchor": "center",
          "xref": "paper",
          "xshift": 0.5,
          "y": 1.1,
          "yref": "paper"
         }
        ],
        "boxmode": "group",
        "template": {
         "data": {
          "bar": [
           {
            "error_x": {
             "color": "#2a3f5f"
            },
            "error_y": {
             "color": "#2a3f5f"
            },
            "marker": {
             "line": {
              "color": "#E5ECF6",
              "width": 0.5
             },
             "pattern": {
              "fillmode": "overlay",
              "size": 10,
              "solidity": 0.2
             }
            },
            "type": "bar"
           }
          ],
          "barpolar": [
           {
            "marker": {
             "line": {
              "color": "#E5ECF6",
              "width": 0.5
             },
             "pattern": {
              "fillmode": "overlay",
              "size": 10,
              "solidity": 0.2
             }
            },
            "type": "barpolar"
           }
          ],
          "carpet": [
           {
            "aaxis": {
             "endlinecolor": "#2a3f5f",
             "gridcolor": "white",
             "linecolor": "white",
             "minorgridcolor": "white",
             "startlinecolor": "#2a3f5f"
            },
            "baxis": {
             "endlinecolor": "#2a3f5f",
             "gridcolor": "white",
             "linecolor": "white",
             "minorgridcolor": "white",
             "startlinecolor": "#2a3f5f"
            },
            "type": "carpet"
           }
          ],
          "choropleth": [
           {
            "colorbar": {
             "outlinewidth": 0,
             "ticks": ""
            },
            "type": "choropleth"
           }
          ],
          "contour": [
           {
            "colorbar": {
             "outlinewidth": 0,
             "ticks": ""
            },
            "colorscale": [
             [
              0,
              "#0d0887"
             ],
             [
              0.1111111111111111,
              "#46039f"
             ],
             [
              0.2222222222222222,
              "#7201a8"
             ],
             [
              0.3333333333333333,
              "#9c179e"
             ],
             [
              0.4444444444444444,
              "#bd3786"
             ],
             [
              0.5555555555555556,
              "#d8576b"
             ],
             [
              0.6666666666666666,
              "#ed7953"
             ],
             [
              0.7777777777777778,
              "#fb9f3a"
             ],
             [
              0.8888888888888888,
              "#fdca26"
             ],
             [
              1,
              "#f0f921"
             ]
            ],
            "type": "contour"
           }
          ],
          "contourcarpet": [
           {
            "colorbar": {
             "outlinewidth": 0,
             "ticks": ""
            },
            "type": "contourcarpet"
           }
          ],
          "heatmap": [
           {
            "colorbar": {
             "outlinewidth": 0,
             "ticks": ""
            },
            "colorscale": [
             [
              0,
              "#0d0887"
             ],
             [
              0.1111111111111111,
              "#46039f"
             ],
             [
              0.2222222222222222,
              "#7201a8"
             ],
             [
              0.3333333333333333,
              "#9c179e"
             ],
             [
              0.4444444444444444,
              "#bd3786"
             ],
             [
              0.5555555555555556,
              "#d8576b"
             ],
             [
              0.6666666666666666,
              "#ed7953"
             ],
             [
              0.7777777777777778,
              "#fb9f3a"
             ],
             [
              0.8888888888888888,
              "#fdca26"
             ],
             [
              1,
              "#f0f921"
             ]
            ],
            "type": "heatmap"
           }
          ],
          "heatmapgl": [
           {
            "colorbar": {
             "outlinewidth": 0,
             "ticks": ""
            },
            "colorscale": [
             [
              0,
              "#0d0887"
             ],
             [
              0.1111111111111111,
              "#46039f"
             ],
             [
              0.2222222222222222,
              "#7201a8"
             ],
             [
              0.3333333333333333,
              "#9c179e"
             ],
             [
              0.4444444444444444,
              "#bd3786"
             ],
             [
              0.5555555555555556,
              "#d8576b"
             ],
             [
              0.6666666666666666,
              "#ed7953"
             ],
             [
              0.7777777777777778,
              "#fb9f3a"
             ],
             [
              0.8888888888888888,
              "#fdca26"
             ],
             [
              1,
              "#f0f921"
             ]
            ],
            "type": "heatmapgl"
           }
          ],
          "histogram": [
           {
            "marker": {
             "pattern": {
              "fillmode": "overlay",
              "size": 10,
              "solidity": 0.2
             }
            },
            "type": "histogram"
           }
          ],
          "histogram2d": [
           {
            "colorbar": {
             "outlinewidth": 0,
             "ticks": ""
            },
            "colorscale": [
             [
              0,
              "#0d0887"
             ],
             [
              0.1111111111111111,
              "#46039f"
             ],
             [
              0.2222222222222222,
              "#7201a8"
             ],
             [
              0.3333333333333333,
              "#9c179e"
             ],
             [
              0.4444444444444444,
              "#bd3786"
             ],
             [
              0.5555555555555556,
              "#d8576b"
             ],
             [
              0.6666666666666666,
              "#ed7953"
             ],
             [
              0.7777777777777778,
              "#fb9f3a"
             ],
             [
              0.8888888888888888,
              "#fdca26"
             ],
             [
              1,
              "#f0f921"
             ]
            ],
            "type": "histogram2d"
           }
          ],
          "histogram2dcontour": [
           {
            "colorbar": {
             "outlinewidth": 0,
             "ticks": ""
            },
            "colorscale": [
             [
              0,
              "#0d0887"
             ],
             [
              0.1111111111111111,
              "#46039f"
             ],
             [
              0.2222222222222222,
              "#7201a8"
             ],
             [
              0.3333333333333333,
              "#9c179e"
             ],
             [
              0.4444444444444444,
              "#bd3786"
             ],
             [
              0.5555555555555556,
              "#d8576b"
             ],
             [
              0.6666666666666666,
              "#ed7953"
             ],
             [
              0.7777777777777778,
              "#fb9f3a"
             ],
             [
              0.8888888888888888,
              "#fdca26"
             ],
             [
              1,
              "#f0f921"
             ]
            ],
            "type": "histogram2dcontour"
           }
          ],
          "mesh3d": [
           {
            "colorbar": {
             "outlinewidth": 0,
             "ticks": ""
            },
            "type": "mesh3d"
           }
          ],
          "parcoords": [
           {
            "line": {
             "colorbar": {
              "outlinewidth": 0,
              "ticks": ""
             }
            },
            "type": "parcoords"
           }
          ],
          "pie": [
           {
            "automargin": true,
            "type": "pie"
           }
          ],
          "scatter": [
           {
            "fillpattern": {
             "fillmode": "overlay",
             "size": 10,
             "solidity": 0.2
            },
            "type": "scatter"
           }
          ],
          "scatter3d": [
           {
            "line": {
             "colorbar": {
              "outlinewidth": 0,
              "ticks": ""
             }
            },
            "marker": {
             "colorbar": {
              "outlinewidth": 0,
              "ticks": ""
             }
            },
            "type": "scatter3d"
           }
          ],
          "scattercarpet": [
           {
            "marker": {
             "colorbar": {
              "outlinewidth": 0,
              "ticks": ""
             }
            },
            "type": "scattercarpet"
           }
          ],
          "scattergeo": [
           {
            "marker": {
             "colorbar": {
              "outlinewidth": 0,
              "ticks": ""
             }
            },
            "type": "scattergeo"
           }
          ],
          "scattergl": [
           {
            "marker": {
             "colorbar": {
              "outlinewidth": 0,
              "ticks": ""
             }
            },
            "type": "scattergl"
           }
          ],
          "scattermapbox": [
           {
            "marker": {
             "colorbar": {
              "outlinewidth": 0,
              "ticks": ""
             }
            },
            "type": "scattermapbox"
           }
          ],
          "scatterpolar": [
           {
            "marker": {
             "colorbar": {
              "outlinewidth": 0,
              "ticks": ""
             }
            },
            "type": "scatterpolar"
           }
          ],
          "scatterpolargl": [
           {
            "marker": {
             "colorbar": {
              "outlinewidth": 0,
              "ticks": ""
             }
            },
            "type": "scatterpolargl"
           }
          ],
          "scatterternary": [
           {
            "marker": {
             "colorbar": {
              "outlinewidth": 0,
              "ticks": ""
             }
            },
            "type": "scatterternary"
           }
          ],
          "surface": [
           {
            "colorbar": {
             "outlinewidth": 0,
             "ticks": ""
            },
            "colorscale": [
             [
              0,
              "#0d0887"
             ],
             [
              0.1111111111111111,
              "#46039f"
             ],
             [
              0.2222222222222222,
              "#7201a8"
             ],
             [
              0.3333333333333333,
              "#9c179e"
             ],
             [
              0.4444444444444444,
              "#bd3786"
             ],
             [
              0.5555555555555556,
              "#d8576b"
             ],
             [
              0.6666666666666666,
              "#ed7953"
             ],
             [
              0.7777777777777778,
              "#fb9f3a"
             ],
             [
              0.8888888888888888,
              "#fdca26"
             ],
             [
              1,
              "#f0f921"
             ]
            ],
            "type": "surface"
           }
          ],
          "table": [
           {
            "cells": {
             "fill": {
              "color": "#EBF0F8"
             },
             "line": {
              "color": "white"
             }
            },
            "header": {
             "fill": {
              "color": "#C8D4E3"
             },
             "line": {
              "color": "white"
             }
            },
            "type": "table"
           }
          ]
         },
         "layout": {
          "annotationdefaults": {
           "arrowcolor": "#2a3f5f",
           "arrowhead": 0,
           "arrowwidth": 1
          },
          "autotypenumbers": "strict",
          "coloraxis": {
           "colorbar": {
            "outlinewidth": 0,
            "ticks": ""
           }
          },
          "colorscale": {
           "diverging": [
            [
             0,
             "#8e0152"
            ],
            [
             0.1,
             "#c51b7d"
            ],
            [
             0.2,
             "#de77ae"
            ],
            [
             0.3,
             "#f1b6da"
            ],
            [
             0.4,
             "#fde0ef"
            ],
            [
             0.5,
             "#f7f7f7"
            ],
            [
             0.6,
             "#e6f5d0"
            ],
            [
             0.7,
             "#b8e186"
            ],
            [
             0.8,
             "#7fbc41"
            ],
            [
             0.9,
             "#4d9221"
            ],
            [
             1,
             "#276419"
            ]
           ],
           "sequential": [
            [
             0,
             "#0d0887"
            ],
            [
             0.1111111111111111,
             "#46039f"
            ],
            [
             0.2222222222222222,
             "#7201a8"
            ],
            [
             0.3333333333333333,
             "#9c179e"
            ],
            [
             0.4444444444444444,
             "#bd3786"
            ],
            [
             0.5555555555555556,
             "#d8576b"
            ],
            [
             0.6666666666666666,
             "#ed7953"
            ],
            [
             0.7777777777777778,
             "#fb9f3a"
            ],
            [
             0.8888888888888888,
             "#fdca26"
            ],
            [
             1,
             "#f0f921"
            ]
           ],
           "sequentialminus": [
            [
             0,
             "#0d0887"
            ],
            [
             0.1111111111111111,
             "#46039f"
            ],
            [
             0.2222222222222222,
             "#7201a8"
            ],
            [
             0.3333333333333333,
             "#9c179e"
            ],
            [
             0.4444444444444444,
             "#bd3786"
            ],
            [
             0.5555555555555556,
             "#d8576b"
            ],
            [
             0.6666666666666666,
             "#ed7953"
            ],
            [
             0.7777777777777778,
             "#fb9f3a"
            ],
            [
             0.8888888888888888,
             "#fdca26"
            ],
            [
             1,
             "#f0f921"
            ]
           ]
          },
          "colorway": [
           "#636efa",
           "#EF553B",
           "#00cc96",
           "#ab63fa",
           "#FFA15A",
           "#19d3f3",
           "#FF6692",
           "#B6E880",
           "#FF97FF",
           "#FECB52"
          ],
          "font": {
           "color": "#2a3f5f"
          },
          "geo": {
           "bgcolor": "white",
           "lakecolor": "white",
           "landcolor": "#E5ECF6",
           "showlakes": true,
           "showland": true,
           "subunitcolor": "white"
          },
          "hoverlabel": {
           "align": "left"
          },
          "hovermode": "closest",
          "mapbox": {
           "style": "light"
          },
          "paper_bgcolor": "white",
          "plot_bgcolor": "#E5ECF6",
          "polar": {
           "angularaxis": {
            "gridcolor": "white",
            "linecolor": "white",
            "ticks": ""
           },
           "bgcolor": "#E5ECF6",
           "radialaxis": {
            "gridcolor": "white",
            "linecolor": "white",
            "ticks": ""
           }
          },
          "scene": {
           "xaxis": {
            "backgroundcolor": "#E5ECF6",
            "gridcolor": "white",
            "gridwidth": 2,
            "linecolor": "white",
            "showbackground": true,
            "ticks": "",
            "zerolinecolor": "white"
           },
           "yaxis": {
            "backgroundcolor": "#E5ECF6",
            "gridcolor": "white",
            "gridwidth": 2,
            "linecolor": "white",
            "showbackground": true,
            "ticks": "",
            "zerolinecolor": "white"
           },
           "zaxis": {
            "backgroundcolor": "#E5ECF6",
            "gridcolor": "white",
            "gridwidth": 2,
            "linecolor": "white",
            "showbackground": true,
            "ticks": "",
            "zerolinecolor": "white"
           }
          },
          "shapedefaults": {
           "line": {
            "color": "#2a3f5f"
           }
          },
          "ternary": {
           "aaxis": {
            "gridcolor": "white",
            "linecolor": "white",
            "ticks": ""
           },
           "baxis": {
            "gridcolor": "white",
            "linecolor": "white",
            "ticks": ""
           },
           "bgcolor": "#E5ECF6",
           "caxis": {
            "gridcolor": "white",
            "linecolor": "white",
            "ticks": ""
           }
          },
          "title": {
           "x": 0.05
          },
          "xaxis": {
           "automargin": true,
           "gridcolor": "white",
           "linecolor": "white",
           "ticks": "",
           "title": {
            "standoff": 15
           },
           "zerolinecolor": "white",
           "zerolinewidth": 2
          },
          "yaxis": {
           "automargin": true,
           "gridcolor": "white",
           "linecolor": "white",
           "ticks": "",
           "title": {
            "standoff": 15
           },
           "zerolinecolor": "white",
           "zerolinewidth": 2
          }
         }
        },
        "title": {
         "text": "Frequency of All Buses Dispatched for Peak Hour & Non-Peak Hour"
        },
        "updatemenus": [
         {
          "active": 0,
          "buttons": [
           {
            "args": [
             {
              "visible": [
               true,
               true,
               true
              ]
             },
             {
              "title": "Frequency of All Buses Dispatched for Peak Hour & Non-Peak Hour"
             }
            ],
            "label": "All",
            "method": "update"
           },
           {
            "args": [
             {
              "visible": [
               true,
               false,
               false
              ]
             },
             {
              "title": "Frequency of Trunk Buses Dispatched for Peak Hour & Non-Peak Hour"
             }
            ],
            "label": "Trunk",
            "method": "update"
           },
           {
            "args": [
             {
              "visible": [
               false,
               true,
               false
              ]
             },
             {
              "title": "Frequency of Express Buses Dispatched for Peak Hour & Non-Peak Hour"
             }
            ],
            "label": "Express",
            "method": "update"
           },
           {
            "args": [
             {
              "visible": [
               false,
               false,
               true
              ]
             },
             {
              "title": "Frequency of Feeder Buses Dispatched for Peak Hour & Non-Peak Hour"
             }
            ],
            "label": "Feeder",
            "method": "update"
           }
          ],
          "showactive": true,
          "type": "dropdown",
          "x": 1.1,
          "y": 0.6
         }
        ],
        "xaxis": {
         "anchor": "y",
         "domain": [
          0,
          0.45
         ],
         "title": {
          "font": {
           "size": 10
          },
          "text": "Interchange"
         }
        },
        "xaxis2": {
         "anchor": "y2",
         "domain": [
          0.55,
          1
         ],
         "title": {
          "font": {
           "size": 10
          },
          "text": "Interchange"
         }
        },
        "yaxis": {
         "anchor": "x",
         "domain": [
          0,
          1
         ],
         "range": [
          -2,
          36
         ],
         "title": {
          "font": {
           "size": 10
          },
          "text": "Average Frequency of All Buses Dispatched"
         }
        },
        "yaxis2": {
         "anchor": "x2",
         "domain": [
          0,
          1
         ],
         "range": [
          -2,
          36
         ],
         "title": {
          "font": {
           "size": 10
          },
          "text": "Average Frequency of All Buses Dispatched"
         }
        }
       }
      }
     },
     "metadata": {},
     "output_type": "display_data"
    }
   ],
   "source": [
    "#Filter rows of data that Category matches only Trunk, Feeder, Express\n",
    "specific_category=merged1[merged1[\"Category\"].isin([\"TRUNK\",\"FEEDER\",\"EXPRESS\"])]\n",
    "\n",
    "#Get maximum distance of route from every bus service number & direction to collect frequency of buses dispatched \n",
    "#For each individual bus route and direction (both peak hour and non-peak hour)\n",
    "max_freqOfBusDispatched_peakhr=[]\n",
    "# max_freqOfBusDispatched_peakhrWOut_Int=[]\n",
    "max_freqOfBusDispatched_offpeakhr=[]\n",
    "# max_freqOfBusDispatched_offpeakhrWOut_Int=[]\n",
    "unique_serviceno=specific_category.index.get_level_values(0).unique()\n",
    "for unique_service in unique_serviceno:\n",
    "    first_lvl_index1=specific_category[specific_category.index.get_level_values(0)==unique_service]\n",
    "    second_lvl_index1=first_lvl_index1.index.get_level_values(1).unique()\n",
    "    for index in second_lvl_index1:\n",
    "        result1=specific_category.loc[(unique_service,index)][[\"Category\",\"Freq_of_Buses_during_Peak_Period\",\"Distance\",\"Interchange\"]].max()\n",
    "        result2=specific_category.loc[(unique_service,index)][[\"Category\",\"Freq_of_Buses_during_OffPeak_Period\",\"Distance\",\"Interchange\"]].max()\n",
    "        temp_dict1={'Category':result1[\"Category\"], \"Distance\":result1[\"Distance\"], \"Freq_of_Buses_during_Peak_Period\":result1[\"Freq_of_Buses_during_Peak_Period\"],\"Interchange\":result1[\"Interchange\"]}\n",
    "        temp_dict2={'Category':result2[\"Category\"], \"Distance\":result2[\"Distance\"], \"Freq_of_Buses_during_OffPeak_Period\":result2[\"Freq_of_Buses_during_OffPeak_Period\"],\"Interchange\":result2[\"Interchange\"]}\n",
    "        max_freqOfBusDispatched_peakhr.append(temp_dict1)\n",
    "        max_freqOfBusDispatched_offpeakhr.append(temp_dict2)\n",
    "\n",
    "#Convert list to pandas dataframe\n",
    "ds1 = pd.concat([pd.DataFrame([row], columns=[\"Category\",\"Freq_of_Buses_during_Peak_Period\",\"Distance\",\"Interchange\"]) for row in max_freqOfBusDispatched_peakhr], ignore_index=True)\n",
    "ds2 = pd.concat([pd.DataFrame([row], columns=[\"Category\",\"Freq_of_Buses_during_OffPeak_Period\",\"Distance\",\"Interchange\"]) for row in max_freqOfBusDispatched_offpeakhr], ignore_index=True)\n",
    "\n",
    "print(\"Peak Period\")\n",
    "display(ds1)\n",
    "print(\"Off-Peak Period\")\n",
    "display(ds2)\n",
    "\n",
    "#Create the figures\n",
    "fig3=make_subplots(rows=1,cols=2)\n",
    "fig3.add_trace(go.Box(\n",
    "    y=ds1[ds1[\"Category\"]==\"TRUNK\"][\"Freq_of_Buses_during_Peak_Period\"],\n",
    "    x=ds1[ds1[\"Category\"]==\"TRUNK\"][\"Interchange\"],\n",
    "    name='Trunk',\n",
    "    marker_color='teal'\n",
    "), row=1, col=1)\n",
    "fig3.add_trace(go.Box(\n",
    "    y=ds1[ds1[\"Category\"]==\"EXPRESS\"][\"Freq_of_Buses_during_Peak_Period\"],\n",
    "    x=ds1[ds1[\"Category\"]==\"EXPRESS\"][\"Interchange\"],\n",
    "    name='Express',\n",
    "    marker_color='maroon'\n",
    "), row=1, col=1)\n",
    "fig3.add_trace(go.Box(\n",
    "    y=ds1[ds1[\"Category\"]==\"FEEDER\"][\"Freq_of_Buses_during_Peak_Period\"],\n",
    "    x=ds1[ds1[\"Category\"]==\"FEEDER\"][\"Interchange\"],\n",
    "    name='Feeder',\n",
    "    marker_color='black'\n",
    "), row=1, col=1)\n",
    "\n",
    "\n",
    "fig3.add_trace(go.Box(\n",
    "    y=ds2[ds2[\"Category\"]==\"TRUNK\"][\"Freq_of_Buses_during_OffPeak_Period\"],\n",
    "    x=ds2[ds2[\"Category\"]==\"TRUNK\"][\"Interchange\"],\n",
    "    marker_color='teal',\n",
    "    showlegend=False\n",
    "), row=1, col=2)\n",
    "fig3.add_trace(go.Box(\n",
    "    y=ds2[ds2[\"Category\"]==\"EXPRESS\"][\"Freq_of_Buses_during_OffPeak_Period\"],\n",
    "    x=ds2[ds2[\"Category\"]==\"EXPRESS\"][\"Interchange\"],\n",
    "    marker_color='maroon',\n",
    "    showlegend=False\n",
    "), row=1, col=2)\n",
    "fig3.add_trace(go.Box(\n",
    "    y=ds2[ds2[\"Category\"]==\"FEEDER\"][\"Freq_of_Buses_during_OffPeak_Period\"],\n",
    "    x=ds2[ds2[\"Category\"]==\"FEEDER\"][\"Interchange\"],\n",
    "    marker_color='black',\n",
    "    showlegend=False\n",
    "), row=1, col=2)\n",
    "\n",
    "#Group together boxes for each value of x\n",
    "fig3.update_layout(\n",
    "    boxmode='group',\n",
    ")\n",
    "\n",
    "#Create the dropdown\n",
    "dropdown_buttons=[\n",
    "    {'label':'All','method':'update','args':[{'visible':[True, True, True]},{'title':'Frequency of All Buses Dispatched for Peak Hour & Non-Peak Hour'}]},\n",
    "    {'label':'Trunk','method':'update','args':[{'visible':[True, False, False]},{'title':'Frequency of Trunk Buses Dispatched for Peak Hour & Non-Peak Hour'}]},\n",
    "    {'label':'Express','method':'update','args':[{'visible':[False, True, False]},{'title':'Frequency of Express Buses Dispatched for Peak Hour & Non-Peak Hour'}]},\n",
    "    {'label':'Feeder','method':'update','args':[{'visible':[False, False,True]},{'title':'Frequency of Feeder Buses Dispatched for Peak Hour & Non-Peak Hour'}]}\n",
    "]\n",
    "\n",
    "#Add dropdown to the figure\n",
    "fig3.update_layout({\n",
    "    'updatemenus':[{\n",
    "        'type':'dropdown',\n",
    "        'x':1.1,\n",
    "        'y':0.6,\n",
    "        'showactive':True,\n",
    "        'active':0,\n",
    "        'buttons':dropdown_buttons\n",
    "    }]\n",
    "})\n",
    "\n",
    "fig3.update_yaxes(range=[-2, 36], title_text=\"Average Frequency of All Buses Dispatched\", title=dict(font=dict(size=10)))\n",
    "fig3.update_xaxes(title_text='Interchange',title=dict(font=dict(size=10)))\n",
    "fig3.update_layout(annotations=[\n",
    "        dict(text='Peak Hour', x=0.18, xref='paper', y=1.10, yref='paper', align='center', showarrow=False, font=dict(size=15)),\n",
    "        dict(text='Off-Peak Hour', x=0.77, xref='paper', y=1.1, yref='paper', align='center', showarrow=False, xanchor='center', xshift=0.5, font=dict(size=15))\n",
    "    ],title='Frequency of All Buses Dispatched for Peak Hour & Non-Peak Hour')\n",
    "fig3.show()"
   ]
  },
  {
   "cell_type": "code",
   "execution_count": 6,
   "id": "2033c55b",
   "metadata": {},
   "outputs": [
    {
     "data": {
      "text/plain": [
       "Rail Length (MRT)                 4\n",
       "Rail Length (LRT)                 6\n",
       "Average Daily Distance (MRT)     10\n",
       "Average Daily Distance (LRT)     10\n",
       "Average Daily Ridership (MRT)     6\n",
       "Average Daily Ridership (LRT)     6\n",
       "dtype: int64"
      ]
     },
     "metadata": {},
     "output_type": "display_data"
    },
    {
     "data": {
      "text/html": [
       "<div>\n",
       "<style scoped>\n",
       "    .dataframe tbody tr th:only-of-type {\n",
       "        vertical-align: middle;\n",
       "    }\n",
       "\n",
       "    .dataframe tbody tr th {\n",
       "        vertical-align: top;\n",
       "    }\n",
       "\n",
       "    .dataframe thead th {\n",
       "        text-align: right;\n",
       "    }\n",
       "</style>\n",
       "<table border=\"1\" class=\"dataframe\">\n",
       "  <thead>\n",
       "    <tr style=\"text-align: right;\">\n",
       "      <th></th>\n",
       "      <th>Rail Length (MRT)</th>\n",
       "      <th>Rail Length (LRT)</th>\n",
       "      <th>Average Daily Distance (MRT)</th>\n",
       "      <th>Average Daily Distance (LRT)</th>\n",
       "      <th>Average Daily Ridership (MRT)</th>\n",
       "      <th>Average Daily Ridership (LRT)</th>\n",
       "    </tr>\n",
       "    <tr>\n",
       "      <th>Year</th>\n",
       "      <th></th>\n",
       "      <th></th>\n",
       "      <th></th>\n",
       "      <th></th>\n",
       "      <th></th>\n",
       "      <th></th>\n",
       "    </tr>\n",
       "  </thead>\n",
       "  <tbody>\n",
       "    <tr>\n",
       "      <th>1990</th>\n",
       "      <td>67.0</td>\n",
       "      <td>NaN</td>\n",
       "      <td>NaN</td>\n",
       "      <td>NaN</td>\n",
       "      <td>NaN</td>\n",
       "      <td>NaN</td>\n",
       "    </tr>\n",
       "    <tr>\n",
       "      <th>1996</th>\n",
       "      <td>83.0</td>\n",
       "      <td>NaN</td>\n",
       "      <td>NaN</td>\n",
       "      <td>NaN</td>\n",
       "      <td>NaN</td>\n",
       "      <td>NaN</td>\n",
       "    </tr>\n",
       "    <tr>\n",
       "      <th>1999</th>\n",
       "      <td>83.0</td>\n",
       "      <td>7.8</td>\n",
       "      <td>NaN</td>\n",
       "      <td>NaN</td>\n",
       "      <td>NaN</td>\n",
       "      <td>NaN</td>\n",
       "    </tr>\n",
       "    <tr>\n",
       "      <th>2002</th>\n",
       "      <td>89.4</td>\n",
       "      <td>7.8</td>\n",
       "      <td>NaN</td>\n",
       "      <td>NaN</td>\n",
       "      <td>NaN</td>\n",
       "      <td>NaN</td>\n",
       "    </tr>\n",
       "    <tr>\n",
       "      <th>2003</th>\n",
       "      <td>109.4</td>\n",
       "      <td>18.5</td>\n",
       "      <td>NaN</td>\n",
       "      <td>NaN</td>\n",
       "      <td>NaN</td>\n",
       "      <td>NaN</td>\n",
       "    </tr>\n",
       "    <tr>\n",
       "      <th>2004</th>\n",
       "      <td>NaN</td>\n",
       "      <td>NaN</td>\n",
       "      <td>NaN</td>\n",
       "      <td>NaN</td>\n",
       "      <td>NaN</td>\n",
       "      <td>NaN</td>\n",
       "    </tr>\n",
       "    <tr>\n",
       "      <th>2005</th>\n",
       "      <td>109.4</td>\n",
       "      <td>28.8</td>\n",
       "      <td>NaN</td>\n",
       "      <td>NaN</td>\n",
       "      <td>1321.0</td>\n",
       "      <td>69.0</td>\n",
       "    </tr>\n",
       "    <tr>\n",
       "      <th>2006</th>\n",
       "      <td>NaN</td>\n",
       "      <td>NaN</td>\n",
       "      <td>NaN</td>\n",
       "      <td>NaN</td>\n",
       "      <td>1408.0</td>\n",
       "      <td>74.0</td>\n",
       "    </tr>\n",
       "    <tr>\n",
       "      <th>2007</th>\n",
       "      <td>NaN</td>\n",
       "      <td>NaN</td>\n",
       "      <td>NaN</td>\n",
       "      <td>NaN</td>\n",
       "      <td>1527.0</td>\n",
       "      <td>79.0</td>\n",
       "    </tr>\n",
       "    <tr>\n",
       "      <th>2008</th>\n",
       "      <td>NaN</td>\n",
       "      <td>NaN</td>\n",
       "      <td>NaN</td>\n",
       "      <td>NaN</td>\n",
       "      <td>1698.0</td>\n",
       "      <td>88.0</td>\n",
       "    </tr>\n",
       "    <tr>\n",
       "      <th>2009</th>\n",
       "      <td>118.9</td>\n",
       "      <td>28.8</td>\n",
       "      <td>18025.0</td>\n",
       "      <td>3303.0</td>\n",
       "      <td>1782.0</td>\n",
       "      <td>90.0</td>\n",
       "    </tr>\n",
       "    <tr>\n",
       "      <th>2010</th>\n",
       "      <td>129.9</td>\n",
       "      <td>28.8</td>\n",
       "      <td>20265.0</td>\n",
       "      <td>3311.0</td>\n",
       "      <td>2069.0</td>\n",
       "      <td>100.0</td>\n",
       "    </tr>\n",
       "    <tr>\n",
       "      <th>2011</th>\n",
       "      <td>146.5</td>\n",
       "      <td>28.8</td>\n",
       "      <td>22465.0</td>\n",
       "      <td>3620.0</td>\n",
       "      <td>2295.0</td>\n",
       "      <td>111.0</td>\n",
       "    </tr>\n",
       "    <tr>\n",
       "      <th>2012</th>\n",
       "      <td>148.9</td>\n",
       "      <td>28.8</td>\n",
       "      <td>26492.0</td>\n",
       "      <td>3883.0</td>\n",
       "      <td>2525.0</td>\n",
       "      <td>124.0</td>\n",
       "    </tr>\n",
       "    <tr>\n",
       "      <th>2013</th>\n",
       "      <td>153.2</td>\n",
       "      <td>28.8</td>\n",
       "      <td>26420.0</td>\n",
       "      <td>4435.0</td>\n",
       "      <td>2623.0</td>\n",
       "      <td>132.0</td>\n",
       "    </tr>\n",
       "    <tr>\n",
       "      <th>2014</th>\n",
       "      <td>154.2</td>\n",
       "      <td>28.8</td>\n",
       "      <td>28173.0</td>\n",
       "      <td>4787.0</td>\n",
       "      <td>2762.0</td>\n",
       "      <td>137.0</td>\n",
       "    </tr>\n",
       "    <tr>\n",
       "      <th>2015</th>\n",
       "      <td>170.8</td>\n",
       "      <td>28.8</td>\n",
       "      <td>28795.0</td>\n",
       "      <td>5937.0</td>\n",
       "      <td>2871.0</td>\n",
       "      <td>153.0</td>\n",
       "    </tr>\n",
       "    <tr>\n",
       "      <th>2016</th>\n",
       "      <td>170.8</td>\n",
       "      <td>28.8</td>\n",
       "      <td>34194.0</td>\n",
       "      <td>6620.0</td>\n",
       "      <td>3095.0</td>\n",
       "      <td>180.0</td>\n",
       "    </tr>\n",
       "    <tr>\n",
       "      <th>2017</th>\n",
       "      <td>199.3</td>\n",
       "      <td>28.8</td>\n",
       "      <td>36278.0</td>\n",
       "      <td>7233.0</td>\n",
       "      <td>3122.0</td>\n",
       "      <td>190.0</td>\n",
       "    </tr>\n",
       "    <tr>\n",
       "      <th>2018</th>\n",
       "      <td>199.3</td>\n",
       "      <td>28.8</td>\n",
       "      <td>40700.0</td>\n",
       "      <td>7302.0</td>\n",
       "      <td>3302.0</td>\n",
       "      <td>199.0</td>\n",
       "    </tr>\n",
       "    <tr>\n",
       "      <th>2019</th>\n",
       "      <td>199.3</td>\n",
       "      <td>28.8</td>\n",
       "      <td>40883.0</td>\n",
       "      <td>7566.0</td>\n",
       "      <td>3384.0</td>\n",
       "      <td>208.0</td>\n",
       "    </tr>\n",
       "    <tr>\n",
       "      <th>2020</th>\n",
       "      <td>203.5</td>\n",
       "      <td>28.8</td>\n",
       "      <td>39362.0</td>\n",
       "      <td>6799.0</td>\n",
       "      <td>2023.0</td>\n",
       "      <td>139.0</td>\n",
       "    </tr>\n",
       "    <tr>\n",
       "      <th>2021</th>\n",
       "      <td>216.5</td>\n",
       "      <td>28.8</td>\n",
       "      <td>40613.0</td>\n",
       "      <td>7019.0</td>\n",
       "      <td>2100.0</td>\n",
       "      <td>151.0</td>\n",
       "    </tr>\n",
       "  </tbody>\n",
       "</table>\n",
       "</div>"
      ],
      "text/plain": [
       "      Rail Length (MRT)  Rail Length (LRT)  Average Daily Distance (MRT)  \\\n",
       "Year                                                                       \n",
       "1990               67.0                NaN                           NaN   \n",
       "1996               83.0                NaN                           NaN   \n",
       "1999               83.0                7.8                           NaN   \n",
       "2002               89.4                7.8                           NaN   \n",
       "2003              109.4               18.5                           NaN   \n",
       "2004                NaN                NaN                           NaN   \n",
       "2005              109.4               28.8                           NaN   \n",
       "2006                NaN                NaN                           NaN   \n",
       "2007                NaN                NaN                           NaN   \n",
       "2008                NaN                NaN                           NaN   \n",
       "2009              118.9               28.8                       18025.0   \n",
       "2010              129.9               28.8                       20265.0   \n",
       "2011              146.5               28.8                       22465.0   \n",
       "2012              148.9               28.8                       26492.0   \n",
       "2013              153.2               28.8                       26420.0   \n",
       "2014              154.2               28.8                       28173.0   \n",
       "2015              170.8               28.8                       28795.0   \n",
       "2016              170.8               28.8                       34194.0   \n",
       "2017              199.3               28.8                       36278.0   \n",
       "2018              199.3               28.8                       40700.0   \n",
       "2019              199.3               28.8                       40883.0   \n",
       "2020              203.5               28.8                       39362.0   \n",
       "2021              216.5               28.8                       40613.0   \n",
       "\n",
       "      Average Daily Distance (LRT)  Average Daily Ridership (MRT)  \\\n",
       "Year                                                                \n",
       "1990                           NaN                            NaN   \n",
       "1996                           NaN                            NaN   \n",
       "1999                           NaN                            NaN   \n",
       "2002                           NaN                            NaN   \n",
       "2003                           NaN                            NaN   \n",
       "2004                           NaN                            NaN   \n",
       "2005                           NaN                         1321.0   \n",
       "2006                           NaN                         1408.0   \n",
       "2007                           NaN                         1527.0   \n",
       "2008                           NaN                         1698.0   \n",
       "2009                        3303.0                         1782.0   \n",
       "2010                        3311.0                         2069.0   \n",
       "2011                        3620.0                         2295.0   \n",
       "2012                        3883.0                         2525.0   \n",
       "2013                        4435.0                         2623.0   \n",
       "2014                        4787.0                         2762.0   \n",
       "2015                        5937.0                         2871.0   \n",
       "2016                        6620.0                         3095.0   \n",
       "2017                        7233.0                         3122.0   \n",
       "2018                        7302.0                         3302.0   \n",
       "2019                        7566.0                         3384.0   \n",
       "2020                        6799.0                         2023.0   \n",
       "2021                        7019.0                         2100.0   \n",
       "\n",
       "      Average Daily Ridership (LRT)  \n",
       "Year                                 \n",
       "1990                            NaN  \n",
       "1996                            NaN  \n",
       "1999                            NaN  \n",
       "2002                            NaN  \n",
       "2003                            NaN  \n",
       "2004                            NaN  \n",
       "2005                           69.0  \n",
       "2006                           74.0  \n",
       "2007                           79.0  \n",
       "2008                           88.0  \n",
       "2009                           90.0  \n",
       "2010                          100.0  \n",
       "2011                          111.0  \n",
       "2012                          124.0  \n",
       "2013                          132.0  \n",
       "2014                          137.0  \n",
       "2015                          153.0  \n",
       "2016                          180.0  \n",
       "2017                          190.0  \n",
       "2018                          199.0  \n",
       "2019                          208.0  \n",
       "2020                          139.0  \n",
       "2021                          151.0  "
      ]
     },
     "metadata": {},
     "output_type": "display_data"
    },
    {
     "data": {
      "text/html": [
       "<div>\n",
       "<style scoped>\n",
       "    .dataframe tbody tr th:only-of-type {\n",
       "        vertical-align: middle;\n",
       "    }\n",
       "\n",
       "    .dataframe tbody tr th {\n",
       "        vertical-align: top;\n",
       "    }\n",
       "\n",
       "    .dataframe thead th {\n",
       "        text-align: right;\n",
       "    }\n",
       "</style>\n",
       "<table border=\"1\" class=\"dataframe\">\n",
       "  <thead>\n",
       "    <tr style=\"text-align: right;\">\n",
       "      <th></th>\n",
       "      <th>Rail Length (MRT)</th>\n",
       "      <th>Rail Length (LRT)</th>\n",
       "    </tr>\n",
       "    <tr>\n",
       "      <th>Year</th>\n",
       "      <th></th>\n",
       "      <th></th>\n",
       "    </tr>\n",
       "  </thead>\n",
       "  <tbody>\n",
       "    <tr>\n",
       "      <th>2002</th>\n",
       "      <td>89.4</td>\n",
       "      <td>7.8</td>\n",
       "    </tr>\n",
       "    <tr>\n",
       "      <th>2003</th>\n",
       "      <td>109.4</td>\n",
       "      <td>18.5</td>\n",
       "    </tr>\n",
       "    <tr>\n",
       "      <th>2004</th>\n",
       "      <td>109.4</td>\n",
       "      <td>23.6</td>\n",
       "    </tr>\n",
       "    <tr>\n",
       "      <th>2005</th>\n",
       "      <td>109.4</td>\n",
       "      <td>28.8</td>\n",
       "    </tr>\n",
       "    <tr>\n",
       "      <th>2006</th>\n",
       "      <td>111.8</td>\n",
       "      <td>28.8</td>\n",
       "    </tr>\n",
       "    <tr>\n",
       "      <th>2007</th>\n",
       "      <td>114.2</td>\n",
       "      <td>28.8</td>\n",
       "    </tr>\n",
       "    <tr>\n",
       "      <th>2008</th>\n",
       "      <td>116.5</td>\n",
       "      <td>28.8</td>\n",
       "    </tr>\n",
       "    <tr>\n",
       "      <th>2009</th>\n",
       "      <td>118.9</td>\n",
       "      <td>28.8</td>\n",
       "    </tr>\n",
       "    <tr>\n",
       "      <th>2010</th>\n",
       "      <td>129.9</td>\n",
       "      <td>28.8</td>\n",
       "    </tr>\n",
       "    <tr>\n",
       "      <th>2011</th>\n",
       "      <td>146.5</td>\n",
       "      <td>28.8</td>\n",
       "    </tr>\n",
       "    <tr>\n",
       "      <th>2012</th>\n",
       "      <td>148.9</td>\n",
       "      <td>28.8</td>\n",
       "    </tr>\n",
       "    <tr>\n",
       "      <th>2013</th>\n",
       "      <td>153.2</td>\n",
       "      <td>28.8</td>\n",
       "    </tr>\n",
       "    <tr>\n",
       "      <th>2014</th>\n",
       "      <td>154.2</td>\n",
       "      <td>28.8</td>\n",
       "    </tr>\n",
       "    <tr>\n",
       "      <th>2015</th>\n",
       "      <td>170.8</td>\n",
       "      <td>28.8</td>\n",
       "    </tr>\n",
       "    <tr>\n",
       "      <th>2016</th>\n",
       "      <td>170.8</td>\n",
       "      <td>28.8</td>\n",
       "    </tr>\n",
       "    <tr>\n",
       "      <th>2017</th>\n",
       "      <td>199.3</td>\n",
       "      <td>28.8</td>\n",
       "    </tr>\n",
       "    <tr>\n",
       "      <th>2018</th>\n",
       "      <td>199.3</td>\n",
       "      <td>28.8</td>\n",
       "    </tr>\n",
       "    <tr>\n",
       "      <th>2019</th>\n",
       "      <td>199.3</td>\n",
       "      <td>28.8</td>\n",
       "    </tr>\n",
       "    <tr>\n",
       "      <th>2020</th>\n",
       "      <td>203.5</td>\n",
       "      <td>28.8</td>\n",
       "    </tr>\n",
       "    <tr>\n",
       "      <th>2021</th>\n",
       "      <td>216.5</td>\n",
       "      <td>28.8</td>\n",
       "    </tr>\n",
       "  </tbody>\n",
       "</table>\n",
       "</div>"
      ],
      "text/plain": [
       "      Rail Length (MRT)  Rail Length (LRT)\n",
       "Year                                      \n",
       "2002               89.4                7.8\n",
       "2003              109.4               18.5\n",
       "2004              109.4               23.6\n",
       "2005              109.4               28.8\n",
       "2006              111.8               28.8\n",
       "2007              114.2               28.8\n",
       "2008              116.5               28.8\n",
       "2009              118.9               28.8\n",
       "2010              129.9               28.8\n",
       "2011              146.5               28.8\n",
       "2012              148.9               28.8\n",
       "2013              153.2               28.8\n",
       "2014              154.2               28.8\n",
       "2015              170.8               28.8\n",
       "2016              170.8               28.8\n",
       "2017              199.3               28.8\n",
       "2018              199.3               28.8\n",
       "2019              199.3               28.8\n",
       "2020              203.5               28.8\n",
       "2021              216.5               28.8"
      ]
     },
     "metadata": {},
     "output_type": "display_data"
    },
    {
     "name": "stdout",
     "output_type": "stream",
     "text": [
      "Nature of Cleaned Dataset 2\n",
      "Rail Length (MRT)    float64\n",
      "Rail Length (LRT)    float64\n",
      "dtype: object\n",
      "\n"
     ]
    },
    {
     "data": {
      "text/html": [
       "<div>\n",
       "<style scoped>\n",
       "    .dataframe tbody tr th:only-of-type {\n",
       "        vertical-align: middle;\n",
       "    }\n",
       "\n",
       "    .dataframe tbody tr th {\n",
       "        vertical-align: top;\n",
       "    }\n",
       "\n",
       "    .dataframe thead th {\n",
       "        text-align: right;\n",
       "    }\n",
       "</style>\n",
       "<table border=\"1\" class=\"dataframe\">\n",
       "  <thead>\n",
       "    <tr style=\"text-align: right;\">\n",
       "      <th></th>\n",
       "      <th>Average Daily Distance (MRT)</th>\n",
       "      <th>Average Daily Distance (LRT)</th>\n",
       "      <th>Average Daily Ridership (MRT)</th>\n",
       "      <th>Average Daily Ridership (LRT)</th>\n",
       "    </tr>\n",
       "    <tr>\n",
       "      <th>Year</th>\n",
       "      <th></th>\n",
       "      <th></th>\n",
       "      <th></th>\n",
       "      <th></th>\n",
       "    </tr>\n",
       "  </thead>\n",
       "  <tbody>\n",
       "    <tr>\n",
       "      <th>2011</th>\n",
       "      <td>61547.9</td>\n",
       "      <td>9917.8</td>\n",
       "      <td>2295</td>\n",
       "      <td>111</td>\n",
       "    </tr>\n",
       "    <tr>\n",
       "      <th>2012</th>\n",
       "      <td>72580.8</td>\n",
       "      <td>10638.4</td>\n",
       "      <td>2525</td>\n",
       "      <td>124</td>\n",
       "    </tr>\n",
       "    <tr>\n",
       "      <th>2013</th>\n",
       "      <td>72383.6</td>\n",
       "      <td>12150.7</td>\n",
       "      <td>2623</td>\n",
       "      <td>132</td>\n",
       "    </tr>\n",
       "    <tr>\n",
       "      <th>2014</th>\n",
       "      <td>77186.3</td>\n",
       "      <td>13115.1</td>\n",
       "      <td>2762</td>\n",
       "      <td>137</td>\n",
       "    </tr>\n",
       "    <tr>\n",
       "      <th>2015</th>\n",
       "      <td>78890.4</td>\n",
       "      <td>16265.8</td>\n",
       "      <td>2871</td>\n",
       "      <td>153</td>\n",
       "    </tr>\n",
       "    <tr>\n",
       "      <th>2016</th>\n",
       "      <td>93682.2</td>\n",
       "      <td>18137.0</td>\n",
       "      <td>3095</td>\n",
       "      <td>180</td>\n",
       "    </tr>\n",
       "    <tr>\n",
       "      <th>2017</th>\n",
       "      <td>99391.8</td>\n",
       "      <td>19816.4</td>\n",
       "      <td>3122</td>\n",
       "      <td>190</td>\n",
       "    </tr>\n",
       "    <tr>\n",
       "      <th>2018</th>\n",
       "      <td>111506.8</td>\n",
       "      <td>20005.5</td>\n",
       "      <td>3302</td>\n",
       "      <td>199</td>\n",
       "    </tr>\n",
       "    <tr>\n",
       "      <th>2019</th>\n",
       "      <td>112008.2</td>\n",
       "      <td>20728.8</td>\n",
       "      <td>3384</td>\n",
       "      <td>208</td>\n",
       "    </tr>\n",
       "    <tr>\n",
       "      <th>2020</th>\n",
       "      <td>107841.1</td>\n",
       "      <td>18627.4</td>\n",
       "      <td>2023</td>\n",
       "      <td>139</td>\n",
       "    </tr>\n",
       "    <tr>\n",
       "      <th>2021</th>\n",
       "      <td>111268.5</td>\n",
       "      <td>19230.1</td>\n",
       "      <td>2100</td>\n",
       "      <td>151</td>\n",
       "    </tr>\n",
       "  </tbody>\n",
       "</table>\n",
       "</div>"
      ],
      "text/plain": [
       "      Average Daily Distance (MRT)  Average Daily Distance (LRT)  \\\n",
       "Year                                                               \n",
       "2011                       61547.9                        9917.8   \n",
       "2012                       72580.8                       10638.4   \n",
       "2013                       72383.6                       12150.7   \n",
       "2014                       77186.3                       13115.1   \n",
       "2015                       78890.4                       16265.8   \n",
       "2016                       93682.2                       18137.0   \n",
       "2017                       99391.8                       19816.4   \n",
       "2018                      111506.8                       20005.5   \n",
       "2019                      112008.2                       20728.8   \n",
       "2020                      107841.1                       18627.4   \n",
       "2021                      111268.5                       19230.1   \n",
       "\n",
       "      Average Daily Ridership (MRT)  Average Daily Ridership (LRT)  \n",
       "Year                                                                \n",
       "2011                           2295                            111  \n",
       "2012                           2525                            124  \n",
       "2013                           2623                            132  \n",
       "2014                           2762                            137  \n",
       "2015                           2871                            153  \n",
       "2016                           3095                            180  \n",
       "2017                           3122                            190  \n",
       "2018                           3302                            199  \n",
       "2019                           3384                            208  \n",
       "2020                           2023                            139  \n",
       "2021                           2100                            151  "
      ]
     },
     "metadata": {},
     "output_type": "display_data"
    },
    {
     "name": "stdout",
     "output_type": "stream",
     "text": [
      "Nature of Cleaned Dataset 3\n",
      "Average Daily Distance (MRT)     float64\n",
      "Average Daily Distance (LRT)     float64\n",
      "Average Daily Ridership (MRT)      int32\n",
      "Average Daily Ridership (LRT)      int32\n",
      "dtype: object\n"
     ]
    }
   ],
   "source": [
    "directory='./Original_Datasets/'\n",
    "df5 = pd.read_csv(directory + 'trains_raillength_and_buses_travel_distance.csv', sep=',',na_values=['na','-'])\n",
    "df5= df5.drop(['Rail Length (Kilometres)','Average Daily Ridership - Bus (Thousand Passenger-Trips)','Average Daily Trip - Point-To-Point (P2P) Transport (Taxis And Private Hire Cars) (Thousand Daily-Trips)'], axis=1)\n",
    "df5=df5.rename(columns={\"Data Series\":\"Year\", \"Rail Length -> Mass Rapid Transit (MRT) (Kilometres)\":\"Rail Length (MRT)\",\"Rail Length -> Light Rail Transit (LRT) (Kilometres)\":\"Rail Length (LRT)\", \"MRT km Operated (Thousand Train-Kilometres)\":\"Average Daily Distance (MRT)\", \"LRT km Operated (Thousand Car-Kilometres)\":\"Average Daily Distance (LRT)\",\"Average Daily Ridership - MRT (Thousand Passenger-Trips)\":\"Average Daily Ridership (MRT)\",\"Average Daily Ridership - LRT (Thousand Passenger-Trips)\":\"Average Daily Ridership (LRT)\"})\n",
    "df5=df5.set_index([\"Year\"])\n",
    "#Add a new role for 2004\n",
    "df5.loc[2004]=[np.nan,np.nan,np.nan,np.nan,np.nan,np.nan]\n",
    "df5=df5.sort_index()\n",
    "\n",
    "#Cleaning dataset 3\n",
    "#Fill up the missing data for rail length with linear method of interpolation\n",
    "display(df5.isnull().sum())\n",
    "display(df5)\n",
    "df5[[\"Rail Length (MRT)\",\"Rail Length (LRT)\"]]=df5[[\"Rail Length (MRT)\",\"Rail Length (LRT)\"]].interpolate(limit_direction=\"both\")\n",
    "df5_1=df5.loc[2002:][[\"Rail Length (MRT)\",\"Rail Length (LRT)\"]]\n",
    "#Round off rail length by 1d.p.\n",
    "df5_1[[\"Rail Length (MRT)\",\"Rail Length (LRT)\"]]=df5_1[[\"Rail Length (MRT)\",\"Rail Length (LRT)\"]].applymap(lambda x: round(x,1))\n",
    "display(df5_1)\n",
    "print(\"Nature of Cleaned Dataset 2\")\n",
    "print(df5_1.dtypes)\n",
    "print()\n",
    "#Save cleaned dataset 2 as csv format\n",
    "df5_1.to_csv('./Cleaned_Datasets/rail_length_of_trains.csv')\n",
    "\n",
    "#Cleaning dataset 4\n",
    "df5_2=df5.loc[2011:][[\"Average Daily Distance (MRT)\",\"Average Daily Distance (LRT)\",\"Average Daily Ridership (MRT)\", \"Average Daily Ridership (LRT)\"]]\n",
    "df5_2[[\"Average Daily Distance (MRT)\",\"Average Daily Distance (LRT)\",\"Average Daily Ridership (MRT)\", \"Average Daily Ridership (LRT)\"]]=df5_2[[\"Average Daily Distance (MRT)\",\"Average Daily Distance (LRT)\",\"Average Daily Ridership (MRT)\", \"Average Daily Ridership (LRT)\"]].astype(int)\n",
    "df5_2[[\"Average Daily Distance (MRT)\",\"Average Daily Distance (LRT)\"]]=df5_2[[\"Average Daily Distance (MRT)\",\"Average Daily Distance (LRT)\"]].applymap(lambda x: round(x/365*1000,1))\n",
    "\n",
    "display(df5_2)\n",
    "print(\"Nature of Cleaned Dataset 3\")\n",
    "print(df5_2.dtypes)\n",
    "#Save cleaned dataset 3 as csv format\n",
    "df5_2.to_csv('./Cleaned_Datasets/daily_train_ridership_and_distance_covered.csv')"
   ]
  },
  {
   "cell_type": "code",
   "execution_count": 7,
   "id": "2f030eb0",
   "metadata": {},
   "outputs": [
    {
     "data": {
      "image/png": "[encoded data removed]",
      "text/plain": [
       "<Figure size 864x432 with 1 Axes>"
      ]
     },
     "metadata": {},
     "output_type": "display_data"
    }
   ],
   "source": [
    "#Plot Graph 4 (Point Plot)\n",
    "sns.set_style('darkgrid')\n",
    "fig4=plt.figure(1, figsize=(12,6))\n",
    "fig4.set_facecolor(\"lightblue\")\n",
    "ax4=sns.pointplot(data=df5_1, x=df5_1.index, y=\"Rail Length (MRT)\", color=\"black\", label=\"Rail Length of MRT\")\n",
    "ax4=sns.pointplot(data=df5_1, x=df5_1.index, y=\"Rail Length (LRT)\", color=\"darkgreen\", label=\"Rail Length of LRT\")\n",
    "plt.ylim(0,230)\n",
    "plt.yticks(range(0,226,25))\n",
    "fig4.suptitle('Trend of Rail Length of MRT and LRT from 2002-2021',fontsize=18, fontweight=\"heavy\", fontfamily='cursive')\n",
    "legend = ax4.legend(loc='upper left', shadow=True, fancybox=True)\n",
    "plt.xlabel(\"Year\", fontsize=12)\n",
    "plt.ylabel('Rail Length (km)', fontsize=12)\n",
    "\n",
    "#Annotate rail length values in the each respective pointplot\n",
    "#Offset points in textcoords will have the annotations placed respective to the points plotted\n",
    "for i, point in enumerate(ax4.collections[0].get_offsets()):\n",
    "    ax4.annotate(str(point[1]), (point[0]-0.11, point[1]), textcoords='offset points', xytext=(0,10), ha=\"center\", fontsize=12)\n",
    "for i, point in enumerate(ax4.collections[1].get_offsets()):\n",
    "    ax4.annotate(str(point[1]), (point[0]-0.11, point[1]), textcoords='offset points', xytext=(0,10), ha=\"center\", fontsize=12)\n",
    "plt.tight_layout()\n",
    "plt.show()"
   ]
  },
  {
   "cell_type": "code",
   "execution_count": 8,
   "id": "db048262",
   "metadata": {},
   "outputs": [
    {
     "data": {
      "image/png": "[encoded data removed]",
      "text/plain": [
       "<Figure size 1080x432 with 4 Axes>"
      ]
     },
     "metadata": {},
     "output_type": "display_data"
    }
   ],
   "source": [
    "#Plot Graph 5 (Double Axis Line Plots)\n",
    "fig5,(axes1, axes2)=plt.subplots(nrows=1,ncols=2, figsize=(15,6))\n",
    "fig5.set_facecolor(\"lightblue\")\n",
    "#First subplot\n",
    "sns.lineplot(data=df5_2, x=df5_2.index, y=\"Average Daily Distance (MRT)\", color=\"black\", label=\"Distance Travelled by MRT (km)\", ax=axes1, linestyle=\"solid\")\n",
    "axes1.set_ylim(0,125000)\n",
    "fig5.align_xlabels(df5_2.index)\n",
    "#Add a second y-axis to the first subplot\n",
    "ax1=axes1.twinx()\n",
    "sns.lineplot(data=df5_2, x=df5_2.index, y=\"Average Daily Ridership (MRT)\", color=\"maroon\", label=\"Average Daily MRT Ridership (1000 passenger trips)\", ax=ax1, linestyle=\"dashdot\")\n",
    "ax1.set_ylim(0,7000)\n",
    "axes1.set_title('Average Daily Distance VS Average Daily Ridership of MRT', fontweight='bold', color='darkblue', fontsize=14)\n",
    "axes1.get_legend().remove()\n",
    "ax1.get_legend().remove()\n",
    "\n",
    "#Second subplot\n",
    "sns.lineplot(data=df5_2, x=df5_2.index, y=\"Average Daily Distance (LRT)\", color=\"black\", label=\"Distance Travelled by LRT (km)\", ax=axes2, linestyle=\"solid\")\n",
    "axes2.set_ylim(0,125000)\n",
    "#Add a second y-axis to the second subplot\n",
    "ax2=axes2.twinx()\n",
    "sns.lineplot(data=df5_2, x=df5_2.index, y=\"Average Daily Ridership (LRT)\", color=\"maroon\", label=\"Average Daily LRT Ridership (1000 passenger trips)\", ax=ax2, linestyle=\"dashdot\")\n",
    "ax2.set_ylim(0,320)\n",
    "axes2.set_title('Average Daily Distance VS Average Daily Ridership of LRT', fontweight='bold', color='grey', fontsize=14)\n",
    "fig5.suptitle('Trend of Average Daily Distance and Daily Ridership of MRT & LRT from 2011-2021',fontsize=18, fontweight=\"heavy\", fontfamily='cursive')\n",
    "axes2.get_legend().remove()\n",
    "ax2.get_legend().remove()\n",
    "string1=\"Black Solid Line (-): Average Distance Travelled (km)\"\n",
    "fig5.text(0.38, -0.03, string1, fontsize=12,bbox={'facecolor':'black', 'pad':10}, color='white', fontweight='bold')\n",
    "string2=\"Maroon Dashed Dotted (--.) Line - Average Daily Train Ridership (1000 passenger trips)\"\n",
    "fig5.text(0.3, -0.1, string2, fontsize=12,bbox={'facecolor':'maroon','pad':10}, color='white', fontweight='bold')\n",
    "\n",
    "axes1.axvline(x=2019, color='brown', linestyle=':', ymax=0.95)\n",
    "axes1.text(2019, 120000, 'COVID 19 Occurs In SG', ha='center', va='bottom', color='brown')\n",
    "axes1.axvline(x=2013, color='darkblue', linestyle='--', ymax=0.60)\n",
    "axes1.text(2013, 76000, 'DT Line 1 Opens', ha='right', va='bottom', color='darkblue')\n",
    "axes1.axvline(x=2015, color='darkblue', linestyle='--', ymax=0.66)\n",
    "axes1.text(2015, 82000, 'DT Line 2 Opens', ha='right', va='bottom', color='darkblue')\n",
    "axes1.axvline(x=2017, color='darkblue', linestyle='--', ymax=0.82)\n",
    "axes1.text(2017, 103200, 'DT Line 3 Opens', ha='right', va='bottom', color='darkblue')\n",
    "\n",
    "axes2.axvline(x=2014, color='grey', linestyle='--', ymax=0.62)\n",
    "axes2.text(2014, 80000, 'Punggol LRT West Loop Opens', ha='center', va='bottom', color='grey')\n",
    "axes2.axvline(x=2019, color='brown', linestyle=':', ymax=0.95)\n",
    "axes2.text(2019, 120000, 'COVID 19 Occurs In SG', ha='center', va='bottom', color='brown')\n",
    "ax1.grid(False)\n",
    "ax2.grid(False)\n",
    "plt.tight_layout()\n",
    "#Increase margin to the right of each subplot\n",
    "plt.subplots_adjust(wspace=0.40)\n",
    "plt.show()"
   ]
  },
  {
   "cell_type": "code",
   "execution_count": 9,
   "id": "007dedeb",
   "metadata": {},
   "outputs": [
    {
     "data": {
      "text/html": [
       "<div>\n",
       "<style scoped>\n",
       "    .dataframe tbody tr th:only-of-type {\n",
       "        vertical-align: middle;\n",
       "    }\n",
       "\n",
       "    .dataframe tbody tr th {\n",
       "        vertical-align: top;\n",
       "    }\n",
       "\n",
       "    .dataframe thead th {\n",
       "        text-align: right;\n",
       "    }\n",
       "</style>\n",
       "<table border=\"1\" class=\"dataframe\">\n",
       "  <thead>\n",
       "    <tr style=\"text-align: right;\">\n",
       "      <th></th>\n",
       "      <th>North-South Line</th>\n",
       "      <th>East-West Line</th>\n",
       "      <th>North-East Line</th>\n",
       "      <th>Circle Line</th>\n",
       "      <th>Downtown Line</th>\n",
       "    </tr>\n",
       "    <tr>\n",
       "      <th>year</th>\n",
       "      <th></th>\n",
       "      <th></th>\n",
       "      <th></th>\n",
       "      <th></th>\n",
       "      <th></th>\n",
       "    </tr>\n",
       "  </thead>\n",
       "  <tbody>\n",
       "    <tr>\n",
       "      <th>2018</th>\n",
       "      <td>894000</td>\n",
       "      <td>408000</td>\n",
       "      <td>1369000</td>\n",
       "      <td>728000</td>\n",
       "      <td>928000</td>\n",
       "    </tr>\n",
       "    <tr>\n",
       "      <th>2019</th>\n",
       "      <td>1429000</td>\n",
       "      <td>1483000</td>\n",
       "      <td>1377000</td>\n",
       "      <td>1215000</td>\n",
       "      <td>1136000</td>\n",
       "    </tr>\n",
       "    <tr>\n",
       "      <th>2020</th>\n",
       "      <td>1082000</td>\n",
       "      <td>1258000</td>\n",
       "      <td>2040000</td>\n",
       "      <td>1733000</td>\n",
       "      <td>2090000</td>\n",
       "    </tr>\n",
       "    <tr>\n",
       "      <th>2021</th>\n",
       "      <td>1976000</td>\n",
       "      <td>1454000</td>\n",
       "      <td>2064000</td>\n",
       "      <td>1826000</td>\n",
       "      <td>4188000</td>\n",
       "    </tr>\n",
       "    <tr>\n",
       "      <th>2022</th>\n",
       "      <td>3295000</td>\n",
       "      <td>1456000</td>\n",
       "      <td>2065000</td>\n",
       "      <td>2437000</td>\n",
       "      <td>8228000</td>\n",
       "    </tr>\n",
       "  </tbody>\n",
       "</table>\n",
       "</div>"
      ],
      "text/plain": [
       "      North-South Line  East-West Line  North-East Line  Circle Line  \\\n",
       "year                                                                   \n",
       "2018            894000          408000          1369000       728000   \n",
       "2019           1429000         1483000          1377000      1215000   \n",
       "2020           1082000         1258000          2040000      1733000   \n",
       "2021           1976000         1454000          2064000      1826000   \n",
       "2022           3295000         1456000          2065000      2437000   \n",
       "\n",
       "      Downtown Line  \n",
       "year                 \n",
       "2018         928000  \n",
       "2019        1136000  \n",
       "2020        2090000  \n",
       "2021        4188000  \n",
       "2022        8228000  "
      ]
     },
     "metadata": {},
     "output_type": "display_data"
    },
    {
     "name": "stdout",
     "output_type": "stream",
     "text": [
      "Nature of Cleaned Dataset 4\n",
      "North-South Line    int64\n",
      "East-West Line      int64\n",
      "North-East Line     int64\n",
      "Circle Line         int64\n",
      "Downtown Line       int64\n",
      "dtype: object\n"
     ]
    },
    {
     "data": {
      "application/vnd.plotly.v1+json": {
       "config": {
        "plotlyServerURL": "https://plot.ly"
       },
       "data": [
        {
         "marker": {
          "color": "crimson"
         },
         "name": "North South Line",
         "type": "bar",
         "x": [
          2018,
          2019,
          2020,
          2021,
          2022
         ],
         "y": [
          894000,
          1429000,
          1082000,
          1976000,
          3295000
         ]
        },
        {
         "marker": {
          "color": "teal"
         },
         "name": "East-West Line",
         "type": "bar",
         "x": [
          2018,
          2019,
          2020,
          2021,
          2022
         ],
         "y": [
          408000,
          1483000,
          1258000,
          1454000,
          1456000
         ]
        },
        {
         "marker": {
          "color": "indigo"
         },
         "name": "North-East Line",
         "type": "bar",
         "x": [
          2018,
          2019,
          2020,
          2021,
          2022
         ],
         "y": [
          1369000,
          1377000,
          2040000,
          2064000,
          2065000
         ]
        },
        {
         "marker": {
          "color": "#B58B00"
         },
         "name": "Circle Line",
         "type": "bar",
         "x": [
          2018,
          2019,
          2020,
          2021,
          2022
         ],
         "y": [
          728000,
          1215000,
          1733000,
          1826000,
          2437000
         ]
        },
        {
         "marker": {
          "color": "darkblue"
         },
         "name": "Downtown Line",
         "type": "bar",
         "x": [
          2018,
          2019,
          2020,
          2021,
          2022
         ],
         "y": [
          928000,
          1136000,
          2090000,
          4188000,
          8228000
         ]
        }
       ],
       "layout": {
        "barmode": "group",
        "template": {
         "data": {
          "bar": [
           {
            "error_x": {
             "color": "#2a3f5f"
            },
            "error_y": {
             "color": "#2a3f5f"
            },
            "marker": {
             "line": {
              "color": "#E5ECF6",
              "width": 0.5
             },
             "pattern": {
              "fillmode": "overlay",
              "size": 10,
              "solidity": 0.2
             }
            },
            "type": "bar"
           }
          ],
          "barpolar": [
           {
            "marker": {
             "line": {
              "color": "#E5ECF6",
              "width": 0.5
             },
             "pattern": {
              "fillmode": "overlay",
              "size": 10,
              "solidity": 0.2
             }
            },
            "type": "barpolar"
           }
          ],
          "carpet": [
           {
            "aaxis": {
             "endlinecolor": "#2a3f5f",
             "gridcolor": "white",
             "linecolor": "white",
             "minorgridcolor": "white",
             "startlinecolor": "#2a3f5f"
            },
            "baxis": {
             "endlinecolor": "#2a3f5f",
             "gridcolor": "white",
             "linecolor": "white",
             "minorgridcolor": "white",
             "startlinecolor": "#2a3f5f"
            },
            "type": "carpet"
           }
          ],
          "choropleth": [
           {
            "colorbar": {
             "outlinewidth": 0,
             "ticks": ""
            },
            "type": "choropleth"
           }
          ],
          "contour": [
           {
            "colorbar": {
             "outlinewidth": 0,
             "ticks": ""
            },
            "colorscale": [
             [
              0,
              "#0d0887"
             ],
             [
              0.1111111111111111,
              "#46039f"
             ],
             [
              0.2222222222222222,
              "#7201a8"
             ],
             [
              0.3333333333333333,
              "#9c179e"
             ],
             [
              0.4444444444444444,
              "#bd3786"
             ],
             [
              0.5555555555555556,
              "#d8576b"
             ],
             [
              0.6666666666666666,
              "#ed7953"
             ],
             [
              0.7777777777777778,
              "#fb9f3a"
             ],
             [
              0.8888888888888888,
              "#fdca26"
             ],
             [
              1,
              "#f0f921"
             ]
            ],
            "type": "contour"
           }
          ],
          "contourcarpet": [
           {
            "colorbar": {
             "outlinewidth": 0,
             "ticks": ""
            },
            "type": "contourcarpet"
           }
          ],
          "heatmap": [
           {
            "colorbar": {
             "outlinewidth": 0,
             "ticks": ""
            },
            "colorscale": [
             [
              0,
              "#0d0887"
             ],
             [
              0.1111111111111111,
              "#46039f"
             ],
             [
              0.2222222222222222,
              "#7201a8"
             ],
             [
              0.3333333333333333,
              "#9c179e"
             ],
             [
              0.4444444444444444,
              "#bd3786"
             ],
             [
              0.5555555555555556,
              "#d8576b"
             ],
             [
              0.6666666666666666,
              "#ed7953"
             ],
             [
              0.7777777777777778,
              "#fb9f3a"
             ],
             [
              0.8888888888888888,
              "#fdca26"
             ],
             [
              1,
              "#f0f921"
             ]
            ],
            "type": "heatmap"
           }
          ],
          "heatmapgl": [
           {
            "colorbar": {
             "outlinewidth": 0,
             "ticks": ""
            },
            "colorscale": [
             [
              0,
              "#0d0887"
             ],
             [
              0.1111111111111111,
              "#46039f"
             ],
             [
              0.2222222222222222,
              "#7201a8"
             ],
             [
              0.3333333333333333,
              "#9c179e"
             ],
             [
              0.4444444444444444,
              "#bd3786"
             ],
             [
              0.5555555555555556,
              "#d8576b"
             ],
             [
              0.6666666666666666,
              "#ed7953"
             ],
             [
              0.7777777777777778,
              "#fb9f3a"
             ],
             [
              0.8888888888888888,
              "#fdca26"
             ],
             [
              1,
              "#f0f921"
             ]
            ],
            "type": "heatmapgl"
           }
          ],
          "histogram": [
           {
            "marker": {
             "pattern": {
              "fillmode": "overlay",
              "size": 10,
              "solidity": 0.2
             }
            },
            "type": "histogram"
           }
          ],
          "histogram2d": [
           {
            "colorbar": {
             "outlinewidth": 0,
             "ticks": ""
            },
            "colorscale": [
             [
              0,
              "#0d0887"
             ],
             [
              0.1111111111111111,
              "#46039f"
             ],
             [
              0.2222222222222222,
              "#7201a8"
             ],
             [
              0.3333333333333333,
              "#9c179e"
             ],
             [
              0.4444444444444444,
              "#bd3786"
             ],
             [
              0.5555555555555556,
              "#d8576b"
             ],
             [
              0.6666666666666666,
              "#ed7953"
             ],
             [
              0.7777777777777778,
              "#fb9f3a"
             ],
             [
              0.8888888888888888,
              "#fdca26"
             ],
             [
              1,
              "#f0f921"
             ]
            ],
            "type": "histogram2d"
           }
          ],
          "histogram2dcontour": [
           {
            "colorbar": {
             "outlinewidth": 0,
             "ticks": ""
            },
            "colorscale": [
             [
              0,
              "#0d0887"
             ],
             [
              0.1111111111111111,
              "#46039f"
             ],
             [
              0.2222222222222222,
              "#7201a8"
             ],
             [
              0.3333333333333333,
              "#9c179e"
             ],
             [
              0.4444444444444444,
              "#bd3786"
             ],
             [
              0.5555555555555556,
              "#d8576b"
             ],
             [
              0.6666666666666666,
              "#ed7953"
             ],
             [
              0.7777777777777778,
              "#fb9f3a"
             ],
             [
              0.8888888888888888,
              "#fdca26"
             ],
             [
              1,
              "#f0f921"
             ]
            ],
            "type": "histogram2dcontour"
           }
          ],
          "mesh3d": [
           {
            "colorbar": {
             "outlinewidth": 0,
             "ticks": ""
            },
            "type": "mesh3d"
           }
          ],
          "parcoords": [
           {
            "line": {
             "colorbar": {
              "outlinewidth": 0,
              "ticks": ""
             }
            },
            "type": "parcoords"
           }
          ],
          "pie": [
           {
            "automargin": true,
            "type": "pie"
           }
          ],
          "scatter": [
           {
            "fillpattern": {
             "fillmode": "overlay",
             "size": 10,
             "solidity": 0.2
            },
            "type": "scatter"
           }
          ],
          "scatter3d": [
           {
            "line": {
             "colorbar": {
              "outlinewidth": 0,
              "ticks": ""
             }
            },
            "marker": {
             "colorbar": {
              "outlinewidth": 0,
              "ticks": ""
             }
            },
            "type": "scatter3d"
           }
          ],
          "scattercarpet": [
           {
            "marker": {
             "colorbar": {
              "outlinewidth": 0,
              "ticks": ""
             }
            },
            "type": "scattercarpet"
           }
          ],
          "scattergeo": [
           {
            "marker": {
             "colorbar": {
              "outlinewidth": 0,
              "ticks": ""
             }
            },
            "type": "scattergeo"
           }
          ],
          "scattergl": [
           {
            "marker": {
             "colorbar": {
              "outlinewidth": 0,
              "ticks": ""
             }
            },
            "type": "scattergl"
           }
          ],
          "scattermapbox": [
           {
            "marker": {
             "colorbar": {
              "outlinewidth": 0,
              "ticks": ""
             }
            },
            "type": "scattermapbox"
           }
          ],
          "scatterpolar": [
           {
            "marker": {
             "colorbar": {
              "outlinewidth": 0,
              "ticks": ""
             }
            },
            "type": "scatterpolar"
           }
          ],
          "scatterpolargl": [
           {
            "marker": {
             "colorbar": {
              "outlinewidth": 0,
              "ticks": ""
             }
            },
            "type": "scatterpolargl"
           }
          ],
          "scatterternary": [
           {
            "marker": {
             "colorbar": {
              "outlinewidth": 0,
              "ticks": ""
             }
            },
            "type": "scatterternary"
           }
          ],
          "surface": [
           {
            "colorbar": {
             "outlinewidth": 0,
             "ticks": ""
            },
            "colorscale": [
             [
              0,
              "#0d0887"
             ],
             [
              0.1111111111111111,
              "#46039f"
             ],
             [
              0.2222222222222222,
              "#7201a8"
             ],
             [
              0.3333333333333333,
              "#9c179e"
             ],
             [
              0.4444444444444444,
              "#bd3786"
             ],
             [
              0.5555555555555556,
              "#d8576b"
             ],
             [
              0.6666666666666666,
              "#ed7953"
             ],
             [
              0.7777777777777778,
              "#fb9f3a"
             ],
             [
              0.8888888888888888,
              "#fdca26"
             ],
             [
              1,
              "#f0f921"
             ]
            ],
            "type": "surface"
           }
          ],
          "table": [
           {
            "cells": {
             "fill": {
              "color": "#EBF0F8"
             },
             "line": {
              "color": "white"
             }
            },
            "header": {
             "fill": {
              "color": "#C8D4E3"
             },
             "line": {
              "color": "white"
             }
            },
            "type": "table"
           }
          ]
         },
         "layout": {
          "annotationdefaults": {
           "arrowcolor": "#2a3f5f",
           "arrowhead": 0,
           "arrowwidth": 1
          },
          "autotypenumbers": "strict",
          "coloraxis": {
           "colorbar": {
            "outlinewidth": 0,
            "ticks": ""
           }
          },
          "colorscale": {
           "diverging": [
            [
             0,
             "#8e0152"
            ],
            [
             0.1,
             "#c51b7d"
            ],
            [
             0.2,
             "#de77ae"
            ],
            [
             0.3,
             "#f1b6da"
            ],
            [
             0.4,
             "#fde0ef"
            ],
            [
             0.5,
             "#f7f7f7"
            ],
            [
             0.6,
             "#e6f5d0"
            ],
            [
             0.7,
             "#b8e186"
            ],
            [
             0.8,
             "#7fbc41"
            ],
            [
             0.9,
             "#4d9221"
            ],
            [
             1,
             "#276419"
            ]
           ],
           "sequential": [
            [
             0,
             "#0d0887"
            ],
            [
             0.1111111111111111,
             "#46039f"
            ],
            [
             0.2222222222222222,
             "#7201a8"
            ],
            [
             0.3333333333333333,
             "#9c179e"
            ],
            [
             0.4444444444444444,
             "#bd3786"
            ],
            [
             0.5555555555555556,
             "#d8576b"
            ],
            [
             0.6666666666666666,
             "#ed7953"
            ],
            [
             0.7777777777777778,
             "#fb9f3a"
            ],
            [
             0.8888888888888888,
             "#fdca26"
            ],
            [
             1,
             "#f0f921"
            ]
           ],
           "sequentialminus": [
            [
             0,
             "#0d0887"
            ],
            [
             0.1111111111111111,
             "#46039f"
            ],
            [
             0.2222222222222222,
             "#7201a8"
            ],
            [
             0.3333333333333333,
             "#9c179e"
            ],
            [
             0.4444444444444444,
             "#bd3786"
            ],
            [
             0.5555555555555556,
             "#d8576b"
            ],
            [
             0.6666666666666666,
             "#ed7953"
            ],
            [
             0.7777777777777778,
             "#fb9f3a"
            ],
            [
             0.8888888888888888,
             "#fdca26"
            ],
            [
             1,
             "#f0f921"
            ]
           ]
          },
          "colorway": [
           "#636efa",
           "#EF553B",
           "#00cc96",
           "#ab63fa",
           "#FFA15A",
           "#19d3f3",
           "#FF6692",
           "#B6E880",
           "#FF97FF",
           "#FECB52"
          ],
          "font": {
           "color": "#2a3f5f"
          },
          "geo": {
           "bgcolor": "white",
           "lakecolor": "white",
           "landcolor": "#E5ECF6",
           "showlakes": true,
           "showland": true,
           "subunitcolor": "white"
          },
          "hoverlabel": {
           "align": "left"
          },
          "hovermode": "closest",
          "mapbox": {
           "style": "light"
          },
          "paper_bgcolor": "white",
          "plot_bgcolor": "#E5ECF6",
          "polar": {
           "angularaxis": {
            "gridcolor": "white",
            "linecolor": "white",
            "ticks": ""
           },
           "bgcolor": "#E5ECF6",
           "radialaxis": {
            "gridcolor": "white",
            "linecolor": "white",
            "ticks": ""
           }
          },
          "scene": {
           "xaxis": {
            "backgroundcolor": "#E5ECF6",
            "gridcolor": "white",
            "gridwidth": 2,
            "linecolor": "white",
            "showbackground": true,
            "ticks": "",
            "zerolinecolor": "white"
           },
           "yaxis": {
            "backgroundcolor": "#E5ECF6",
            "gridcolor": "white",
            "gridwidth": 2,
            "linecolor": "white",
            "showbackground": true,
            "ticks": "",
            "zerolinecolor": "white"
           },
           "zaxis": {
            "backgroundcolor": "#E5ECF6",
            "gridcolor": "white",
            "gridwidth": 2,
            "linecolor": "white",
            "showbackground": true,
            "ticks": "",
            "zerolinecolor": "white"
           }
          },
          "shapedefaults": {
           "line": {
            "color": "#2a3f5f"
           }
          },
          "ternary": {
           "aaxis": {
            "gridcolor": "white",
            "linecolor": "white",
            "ticks": ""
           },
           "baxis": {
            "gridcolor": "white",
            "linecolor": "white",
            "ticks": ""
           },
           "bgcolor": "#E5ECF6",
           "caxis": {
            "gridcolor": "white",
            "linecolor": "white",
            "ticks": ""
           }
          },
          "title": {
           "x": 0.05
          },
          "xaxis": {
           "automargin": true,
           "gridcolor": "white",
           "linecolor": "white",
           "ticks": "",
           "title": {
            "standoff": 15
           },
           "zerolinecolor": "white",
           "zerolinewidth": 2
          },
          "yaxis": {
           "automargin": true,
           "gridcolor": "white",
           "linecolor": "white",
           "ticks": "",
           "title": {
            "standoff": 15
           },
           "zerolinecolor": "white",
           "zerolinewidth": 2
          }
         }
        },
        "title": {
         "text": "Distance Travelled By All MRT Lines Before Major Delays"
        },
        "updatemenus": [
         {
          "active": 0,
          "buttons": [
           {
            "args": [
             {
              "visible": [
               true,
               true,
               true,
               true,
               true
              ]
             },
             {
              "title": "Distance Travelled By All MRT Lines Before Major Delays"
             }
            ],
            "label": "All",
            "method": "update"
           },
           {
            "args": [
             {
              "visible": [
               true,
               false,
               false,
               false,
               false
              ]
             },
             {
              "title": "Distance Travelled By North-South Line Before Major Delays"
             }
            ],
            "label": "North-South Line",
            "method": "update"
           },
           {
            "args": [
             {
              "visible": [
               false,
               true,
               false,
               false,
               false
              ]
             },
             {
              "title": "Distance Travelled By East-West Line Before Major Delays"
             }
            ],
            "label": "East-West Line",
            "method": "update"
           },
           {
            "args": [
             {
              "visible": [
               false,
               false,
               true,
               false,
               false
              ]
             },
             {
              "title": "Distance Travelled By North-East Line Before Major Delays"
             }
            ],
            "label": "North-East Line",
            "method": "update"
           },
           {
            "args": [
             {
              "visible": [
               false,
               false,
               false,
               true,
               false
              ]
             },
             {
              "title": "Distance Travelled By Circle Line Before Major Delays"
             }
            ],
            "label": "Circle Line",
            "method": "update"
           },
           {
            "args": [
             {
              "visible": [
               false,
               false,
               false,
               false,
               true
              ]
             },
             {
              "title": "Distance Travelled By Downtown Line Before Major Delays"
             }
            ],
            "label": "Downtown Line",
            "method": "update"
           }
          ],
          "direction": "down",
          "showactive": true,
          "type": "buttons",
          "x": 1.13,
          "y": 0.62
         }
        ],
        "xaxis": {
         "tickmode": "array",
         "tickvals": [
          2018,
          2019,
          2020,
          2021,
          2022
         ],
         "title": {
          "font": {
           "size": 14
          },
          "text": "Year"
         }
        },
        "yaxis": {
         "tickmode": "array",
         "tickvals": [
          0,
          1000000,
          2000000,
          3000000,
          4000000,
          5000000,
          6000000,
          7000000,
          8000000,
          9000000
         ],
         "title": {
          "font": {
           "size": 14
          },
          "text": "Distance (km)"
         }
        }
       }
      }
     },
     "metadata": {},
     "output_type": "display_data"
    }
   ],
   "source": [
    "directory='./Original_Datasets/'\n",
    "df6 = pd.read_json(directory+'dist_travelled_before_5min_or_more_mrtdelays.json')\n",
    "# display(df6.head())\n",
    "df6=df6.set_index([\"year\"])\n",
    "display(df6.head())\n",
    "print(\"Nature of Cleaned Dataset 4\")\n",
    "print(df6.dtypes)\n",
    "#Save cleaned dataset 4 as csv format\n",
    "df6.to_csv('./Cleaned_Datasets/mrt_dist_travelled_before_majorDelays.csv')\n",
    "\n",
    "#Plot Graph 6 (Grouped Bar Chart)\n",
    "data=[\n",
    "go.Bar(x=df6.index,y=df6[\"North-South Line\"], name=\"North South Line\", marker=dict(color='crimson')),\n",
    "go.Bar(x=df6.index,y=df6[\"East-West Line\"], name=\"East-West Line\",marker=dict(color='teal')),\n",
    "go.Bar(x=df6.index,y=df6[\"North-East Line\"], name=\"North-East Line\",marker=dict(color='indigo')),\n",
    "go.Bar(x=df6.index,y=df6[\"Circle Line\"], name=\"Circle Line\",marker=dict(color='#B58B00')),\n",
    "go.Bar(x=df6.index,y=df6[\"Downtown Line\"], name=\"Downtown Line\",marker=dict(color='darkblue'))\n",
    "]\n",
    "layout=go.Layout(title='Distance Travelled By All MRT Lines Before Major Delays', barmode='group',\n",
    "xaxis=dict(title='Year', title_font=dict(size=14), tickmode=\"array\", tickvals=df6.index), yaxis=dict(title=\"Distance (km)\",title_font=dict(size=14), tickmode=\"array\", tickvals=[i for i in range(0,9300000,1000000)]))\n",
    "fig6=go.Figure(data, layout)\n",
    "\n",
    "#Create the dropdown\n",
    "my_buttons=[\n",
    "    {'label':'All','method':'update','args':[{'visible':[True, True, True, True,True]},{'title':'Distance Travelled By All MRT Lines Before Major Delays'}]},\n",
    "    {'label':'North-South Line','method':'update','args':[{'visible':[True, False, False, False, False]},{'title':'Distance Travelled By North-South Line Before Major Delays'}]},\n",
    "    {'label':'East-West Line','method':'update','args':[{'visible':[False, True, False, False, False]},{'title':'Distance Travelled By East-West Line Before Major Delays'}]},\n",
    "    {'label':'North-East Line','method':'update','args':[{'visible':[False, False,True, False, False]},{'title':'Distance Travelled By North-East Line Before Major Delays'}]},\n",
    "    {'label':'Circle Line','method':'update','args':[{'visible':[False, False,False, True, False]},{'title':'Distance Travelled By Circle Line Before Major Delays'}]},\n",
    "    {'label':'Downtown Line','method':'update','args':[{'visible':[False, False,False, False, True]},{'title':'Distance Travelled By Downtown Line Before Major Delays'}]}\n",
    "]\n",
    "\n",
    "fig6.update_layout({\n",
    "    'updatemenus':[{\n",
    "        'type':'buttons',\n",
    "        'direction':'down',\n",
    "        'x':1.13,\n",
    "        'y':0.62,\n",
    "        'showactive':True,\n",
    "        'active':0,\n",
    "        'buttons':my_buttons\n",
    "    }]\n",
    "})\n",
    "\n",
    "fig6.show()"
   ]
  }
 ],
 "metadata": {
  "kernelspec": {
   "display_name": "Python 3 (ipykernel)",
   "language": "python",
   "name": "python3"
  },
  "language_info": {
   "codemirror_mode": {
    "name": "ipython",
    "version": 3
   },
   "file_extension": ".py",
   "mimetype": "text/x-python",
   "name": "python",
   "nbconvert_exporter": "python",
   "pygments_lexer": "ipython3",
   "version": "3.10.5"
  },
  "vscode": {
   "interpreter": {
    "hash": "cfa538cd06c93e304ca575fcc7e49a96f6a8b18fe97e2a1aa2a1d32cf31b50ca"
   }
  }
 },
 "nbformat": 4,
 "nbformat_minor": 5
}
